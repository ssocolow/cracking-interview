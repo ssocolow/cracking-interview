{
 "cells": [
  {
   "cell_type": "markdown",
   "metadata": {},
   "source": [
    "# BUD: Bottlenecks, Unnecessary work, Duplicated work\n",
    "Examples to show each type of possible optimization"
   ]
  },
  {
   "cell_type": "markdown",
   "metadata": {},
   "source": [
    "## Bottlenecks\n",
    "Given an array of distinct values, count the number of pairs of integers that have a difference k. So for the array {1,7,5,9,2,12,3} and the difference k=2, the answer would be 4 because (1,3), (3,5), (5,7), (7,9) all have difference 2."
   ]
  },
  {
   "cell_type": "code",
   "execution_count": 75,
   "metadata": {},
   "outputs": [
    {
     "name": "stdout",
     "output_type": "stream",
     "text": [
      "[20, 10, 15, 5, 26, 16, 22, 30, 17, 14, 38, 1, 13, 19, 35, 18, 27, 25, 33, 11]\n",
      "Bruteforce execution Time: 0.062459013002808206 seconds for 10\n",
      "With Binary Search execution Time: 0.14588807000109227 seconds for 10\n",
      "With Hash table execution Time: 0.006699955003568903 seconds for 10\n"
     ]
    }
   ],
   "source": [
    "import random\n",
    "N = 20\n",
    "arr = random.sample(range(1, N*2), N)\n",
    "print(arr)\n",
    "k = 2\n",
    "\n",
    "bruteResult = 0\n",
    "binResult = 0\n",
    "hashResult = 0\n",
    "\n",
    "def bruteforce(arr, k):\n",
    "    count = 0\n",
    "    for i in range(len(arr)):\n",
    "        for j in range(i+1, len(arr)):\n",
    "            if abs(arr[i] - arr[j]) == k:\n",
    "                count += 1\n",
    "    global bruteResult\n",
    "    bruteResult = count\n",
    "    return count\n",
    "\n",
    "import timeit\n",
    "execution_time = timeit.timeit(lambda: bruteforce(arr,k), number=10000)\n",
    "print(f\"Bruteforce execution Time: {execution_time} seconds for {bruteResult}\")\n",
    "\n",
    "\n",
    "def binarySearch(arr, target):\n",
    "    l = 0\n",
    "    r = len(arr) - 1\n",
    "    while l <= r:\n",
    "        m = (r + l) // 2\n",
    "        if arr[m] == target:\n",
    "            return True\n",
    "        elif arr[m] < target:\n",
    "            l = m + 1\n",
    "        else:\n",
    "            r = m - 1\n",
    "    return False\n",
    "\n",
    "# noticing that we can just sort the array and then do binary search for the specific x + k in the larger part of the array\n",
    "def withBinarySearch(arr, k):\n",
    "    # first sort the array\n",
    "    sortd = recursiveMergeSort(arr)\n",
    "    # hold number of matches\n",
    "    count = 0\n",
    "\n",
    "    # search for each x + k in part of arr with binary search\n",
    "    for i in range(len(sortd)):\n",
    "        if binarySearch(sortd[i+1:], sortd[i] + k) or binarySearch(sortd[i+1:], sortd[i] - k):\n",
    "            count += 1\n",
    "    global binResult\n",
    "    binResult = count\n",
    "    return count\n",
    "\n",
    "execution_time = timeit.timeit(lambda: withBinarySearch(arr,k), number=10000)\n",
    "print(f\"With Binary Search execution Time: {execution_time} seconds for {binResult}\")\n",
    "\n",
    "def mergeTwoSortedLists(l1, l2):\n",
    "    i1 = 0\n",
    "    i2 = 0\n",
    "    ret = []\n",
    "    while i1 < len(l1) and i2 < len(l2):\n",
    "        # print(i1, i2)\n",
    "        if l1[i1] <= l2[i2]:\n",
    "            ret.append(l1[i1])\n",
    "            i1 += 1\n",
    "        else:\n",
    "            ret.append(l2[i2])\n",
    "            i2 += 1\n",
    "        \n",
    "        # hit the end of list 1\n",
    "        if i1 == len(l1):\n",
    "            for i in range(i2, len(l2)):\n",
    "                ret.append(l2[i])\n",
    "            break\n",
    "        # hit the end of list 2\n",
    "        elif i2 == len(l2):\n",
    "            for i in range(i1, len(l1)):\n",
    "                ret.append(l1[i])\n",
    "            break\n",
    "\n",
    "    return ret\n",
    "\n",
    "# print(f\"merging two: {mergeTwoSortedLists([7],[6])}\")\n",
    "\n",
    "def recursiveMergeSort(arr):\n",
    "    # print(arr)\n",
    "    if len(arr) == 1:\n",
    "        return arr\n",
    "\n",
    "    l = len(arr)\n",
    "    n = l // 2\n",
    "    left = recursiveMergeSort(arr[:n])\n",
    "    # print(f'left: {left}')\n",
    "    right = recursiveMergeSort(arr[n:])\n",
    "    # print(f'right: {right}')\n",
    "    merged = mergeTwoSortedLists(left, right)\n",
    "    # print(f'merged: {merged}')\n",
    "    return merged\n",
    "\n",
    "# r = recursiveMergeSort([7,6,2,4,5,9,10,4,55,6])\n",
    "# print(f\"r: {r}\")\n",
    "\n",
    "\n",
    "# trade time for space with putting all values in a hash table so lookup of x + k or x - k is O(1)\n",
    "def withHashTable(arr, k):\n",
    "    table = set(arr)\n",
    "    \n",
    "    count = 0\n",
    "    for x in arr:\n",
    "        if x + k in table:\n",
    "            count += 1\n",
    "    global hashResult\n",
    "    hashResult = count\n",
    "    return count\n",
    "\n",
    "execution_time = timeit.timeit(lambda: withHashTable(arr,k), number=10000)\n",
    "print(f\"With Hash table execution Time: {execution_time} seconds for {hashResult}\")"
   ]
  },
  {
   "cell_type": "code",
   "execution_count": null,
   "metadata": {},
   "outputs": [],
   "source": [
    "from tqdm import tqdm\n",
    "\n",
    "def getTimes(upTo):\n",
    "    loop = []\n",
    "    binS = []\n",
    "    hashT = []\n",
    "    for i in tqdm(range(5, upTo)):\n",
    "        arr = random.sample(range(1, i*2), i)\n",
    "        k = 2\n",
    "        loop.append(timeit.timeit(lambda: bruteforce(arr,k), number=10000))\n",
    "        binS.append(timeit.timeit(lambda: withBinarySearch(arr,k), number=10000))\n",
    "        hashT.append(timeit.timeit(lambda: withHashTable(arr,k), number=10000))\n",
    "    return loop, binS, hashT\n",
    "\n",
    "l, b, h = getTimes(100)"
   ]
  },
  {
   "cell_type": "code",
   "execution_count": 79,
   "metadata": {},
   "outputs": [
    {
     "data": {
      "image/png": "[encoded data removed]",
      "text/plain": [
       "<Figure size 640x480 with 1 Axes>"
      ]
     },
     "metadata": {},
     "output_type": "display_data"
    }
   ],
   "source": [
    "import matplotlib.pyplot as plt\n",
    "x = range(len(l))\n",
    "plt.plot(x, l, label='bruteforce O(N^2)')\n",
    "plt.plot(x, b, label='Sorting and Binary Search O(N log N)')\n",
    "plt.plot(x, h, label='With hashmaps O(N)')\n",
    "plt.legend()\n",
    "plt.show()"
   ]
  },
  {
   "cell_type": "markdown",
   "metadata": {},
   "source": [
    "## Unnecessary work\n",
    "If we want to find all the solutions for a^3+b^3 = c^3+d^3 for a,b,c,d all integers between 1 and 1000, our first approach (brute force) can be much improved upon by recognizing where our code is doing unnecessary work."
   ]
  },
  {
   "cell_type": "code",
   "execution_count": null,
   "metadata": {},
   "outputs": [],
   "source": [
    "# brute force\n",
    "n = 1000\n",
    "for a in range(n):\n",
    "    for b in range(n):\n",
    "        for c in range(n):\n",
    "            for d in range(n):\n",
    "                if a**3 + b**3 == c**3 + d**3:\n",
    "                    print(a, b, c, d)"
   ]
  },
  {
   "cell_type": "code",
   "execution_count": null,
   "metadata": {},
   "outputs": [],
   "source": [
    "# recognize that we can solve for the d, runtime goes from O(n^4) -> O(n^3)\n",
    "\n",
    "def cube_root(x):\n",
    "    return x**(1/3) if x >= 0 else -(-x)**(1/3)\n",
    "\n",
    "n = 1000\n",
    "for a in range(n):\n",
    "    for b in range(n):\n",
    "        for c in range(n):\n",
    "            d = cube_root(a**3 + b**3 - c**3)\n",
    "            if a**3 + b**3 == c**3 + d**3 and d > 0 and d <= n:\n",
    "                print(a,b,c,d // 1)"
   ]
  },
  {
   "cell_type": "markdown",
   "metadata": {},
   "source": [
    "## Duplicated work\n",
    "Above we realized that searching for d was unnecessary - we can just solve for it. Now, let's think about what work we might be doing that we have already done. We shouldn't have to repeat it."
   ]
  },
  {
   "cell_type": "code",
   "execution_count": null,
   "metadata": {},
   "outputs": [],
   "source": [
    "# we are computing all the (c, d) pairs for EACH (a, b) pair\n",
    "# why don't we just compute the (c, d) pairs once at the start\n",
    "# and save c**3 + d**3 in a table with (c, d) so when we look at each\n",
    "# (a, b) pair we can see if a**3 + b**3 is in our table and then retrieve (c, d) if it is\n",
    "table = {}\n",
    "n = 1000\n",
    "for c in range(n):\n",
    "    for d in range(n):\n",
    "        result = c**3 + d**3\n",
    "        if result not in table:\n",
    "            table[result] = []\n",
    "        table[result].append((c, d))\n",
    "\n",
    "for a in range(n):\n",
    "    for b in range(n):\n",
    "        r = a**3 + b**3\n",
    "        if r in table:\n",
    "            print(table[r])"
   ]
  },
  {
   "cell_type": "code",
   "execution_count": null,
   "metadata": {},
   "outputs": [],
   "source": [
    "# but actually, all of the (c, d) values are the same as the (a, b) values\n",
    "# so we can just use the table\n",
    "table = {}\n",
    "n = 1000\n",
    "for c in range(n):\n",
    "    for d in range(n):\n",
    "        result = c**3 + d**3\n",
    "        if result not in table:\n",
    "            table[result] = []\n",
    "        table[result].append((c, d))\n",
    "\n",
    "for result, l in table.items():\n",
    "    for pair1 in l:\n",
    "        for pair2 in l:\n",
    "            print(pair1, pair2)"
   ]
  }
 ],
 "metadata": {
  "kernelspec": {
   "display_name": "base",
   "language": "python",
   "name": "python3"
  },
  "language_info": {
   "codemirror_mode": {
    "name": "ipython",
    "version": 3
   },
   "file_extension": ".py",
   "mimetype": "text/x-python",
   "name": "python",
   "nbconvert_exporter": "python",
   "pygments_lexer": "ipython3",
   "version": "3.12.2"
  }
 },
 "nbformat": 4,
 "nbformat_minor": 2
}
