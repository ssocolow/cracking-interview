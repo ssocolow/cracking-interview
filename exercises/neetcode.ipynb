{
 "cells": [
  {
   "cell_type": "markdown",
   "metadata": {},
   "source": [
    "## Neetcode workspace"
   ]
  },
  {
   "cell_type": "code",
   "execution_count": null,
   "metadata": {
    "vscode": {
     "languageId": "plaintext"
    }
   },
   "outputs": [],
   "source": [
    "def maxPathSum(self, root: Optional[TreeNode]) -> int:\n",
    "        res = [root.val]\n",
    "\n",
    "        # return max path sum wo split\n",
    "        def dfs(root):\n",
    "            if not root:\n",
    "                return 0\n",
    "            leftMax = dfs(root.left)\n",
    "            rightMax = dfs(root.right)\n",
    "            leftMax = max(leftMax, 0)\n",
    "            rightMax = max(rightMax, 0)\n",
    "\n",
    "            # compute max path sum w split\n",
    "            res[0] = max(res[0], root.val + rightMax + leftMax)\n",
    "\n",
    "            return root.val + max(leftMax, rightMax)\n",
    "        \n",
    "        return max(dfs(root), res[0])"
   ]
  }
 ],
 "metadata": {
  "language_info": {
   "name": "python"
  }
 },
 "nbformat": 4,
 "nbformat_minor": 2
}
