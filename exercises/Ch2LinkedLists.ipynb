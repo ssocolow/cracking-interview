{
 "cells": [
  {
   "cell_type": "markdown",
   "metadata": {},
   "source": [
    "# Linked Lists"
   ]
  },
  {
   "cell_type": "code",
   "execution_count": 2,
   "metadata": {},
   "outputs": [],
   "source": [
    "class ListNode:\n",
    "    def __init__(self, val):\n",
    "        self.val = val\n",
    "        self.next = None\n",
    "    def __repr__(self):\n",
    "        p = self.next\n",
    "        ret = f\"{self.val} -> \"\n",
    "        while p:\n",
    "            ret += f\"{p.val} -> \"\n",
    "            p = p.next\n",
    "        return ret\n"
   ]
  },
  {
   "cell_type": "code",
   "execution_count": 23,
   "metadata": {},
   "outputs": [],
   "source": [
    "n1 = ListNode(5)\n",
    "n2 = ListNode(7)\n",
    "n3 = ListNode(5)\n",
    "n4 = ListNode(2)\n",
    "n5 = ListNode(6)\n",
    "n1.next = n2\n",
    "n2.next = n3\n",
    "n3.next = n4\n",
    "n4.next = n5"
   ]
  },
  {
   "cell_type": "markdown",
   "metadata": {},
   "source": [
    "## Remove duplicates"
   ]
  },
  {
   "cell_type": "code",
   "execution_count": 4,
   "metadata": {},
   "outputs": [
    {
     "name": "stdout",
     "output_type": "stream",
     "text": [
      "5 -> 7 -> 5 -> 2 -> 6 -> \n",
      "5 -> 7 -> 2 -> 6 -> \n"
     ]
    }
   ],
   "source": [
    "def removeDuplicates(head):\n",
    "    holder = set()\n",
    "    p = head\n",
    "    p2 = None\n",
    "    while p:\n",
    "        if p.val in holder:\n",
    "            p2.next = p.next\n",
    "            p = p.next\n",
    "        else:\n",
    "            holder.add(p.val)\n",
    "            p2 = p\n",
    "            p = p.next\n",
    "# print(n1)\n",
    "# removeDuplicates(n1)\n",
    "# print(n1)\n",
    "\n",
    "def removeDuplicatesNoBuffer(head):\n",
    "    # using two pointers to do it in O(N^2) time but O(1) space\n",
    "    p1 = head\n",
    "    while p1:\n",
    "        val = p1.val\n",
    "        prev = p1\n",
    "        p2 = p1.next\n",
    "\n",
    "        while p2:\n",
    "            if p2.val == val:\n",
    "                prev.next = p2.next\n",
    "                p2 = p2.next\n",
    "            else:\n",
    "                prev = p2\n",
    "                p2 = p2.next\n",
    "        p1 = p1.next\n",
    "\n",
    "\n",
    "print(n1)\n",
    "removeDuplicatesNoBuffer(n1)\n",
    "print(n1)"
   ]
  },
  {
   "cell_type": "markdown",
   "metadata": {},
   "source": [
    "## Return kth to last element of SLL (singly linked list)"
   ]
  },
  {
   "cell_type": "code",
   "execution_count": 5,
   "metadata": {},
   "outputs": [
    {
     "data": {
      "text/plain": [
       "2 -> 6 -> "
      ]
     },
     "execution_count": 5,
     "metadata": {},
     "output_type": "execute_result"
    }
   ],
   "source": [
    "def kthElement(head, k):\n",
    "    # could have k pointers and move them one each forward one in front of the other\n",
    "    # or just find the length of the list with one run through, then take length-k jumps from the head\n",
    "    # I will go with the latter\n",
    "    p = head\n",
    "    count = 0\n",
    "    while p:\n",
    "        count += 1\n",
    "        p = p.next\n",
    "    \n",
    "    p = head\n",
    "    for i in range(count - k):\n",
    "        p = p.next\n",
    "    \n",
    "    return p\n",
    "kthElement(n1, 2)"
   ]
  },
  {
   "cell_type": "markdown",
   "metadata": {},
   "source": [
    "## Delete middle node"
   ]
  },
  {
   "cell_type": "code",
   "execution_count": 24,
   "metadata": {},
   "outputs": [
    {
     "name": "stdout",
     "output_type": "stream",
     "text": [
      "5 -> 7 -> 5 -> 2 -> 6 -> \n",
      "5 -> 5 -> 2 -> 6 -> \n"
     ]
    }
   ],
   "source": [
    "# given a node that is not the first or the last in a singly linked list, delete a node that is not the first or the last node\n",
    "def deleteNodeInMiddle(n):\n",
    "    # copy the data of the node to the nodes after it\n",
    "    prev = n\n",
    "    p = n.next\n",
    "    while p:\n",
    "        data = p.val\n",
    "        prev.val = data\n",
    "\n",
    "        if p.next == None:\n",
    "            prev.next = None\n",
    "            break\n",
    "        else:\n",
    "            prev = p\n",
    "            p = p.next\n",
    "    \n",
    "print(n1)\n",
    "deleteNodeInMiddle(n2)\n",
    "print(n1)\n",
    "\n",
    "\n"
   ]
  }
 ],
 "metadata": {
  "kernelspec": {
   "display_name": "base",
   "language": "python",
   "name": "python3"
  },
  "language_info": {
   "codemirror_mode": {
    "name": "ipython",
    "version": 3
   },
   "file_extension": ".py",
   "mimetype": "text/x-python",
   "name": "python",
   "nbconvert_exporter": "python",
   "pygments_lexer": "ipython3",
   "version": "3.12.2"
  }
 },
 "nbformat": 4,
 "nbformat_minor": 2
}
