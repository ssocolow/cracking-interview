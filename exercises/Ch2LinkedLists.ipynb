{
 "cells": [
  {
   "cell_type": "markdown",
   "metadata": {},
   "source": [
    "# Linked Lists"
   ]
  },
  {
   "cell_type": "code",
   "execution_count": 2,
   "metadata": {},
   "outputs": [
    {
     "name": "stdout",
     "output_type": "stream",
     "text": [
      "6 -> 7 -> 8 -> 3 -> 1 -> 5 -> 7 -> \n"
     ]
    }
   ],
   "source": [
    "class ListNode:\n",
    "    def __init__(self, val):\n",
    "        self.val = val\n",
    "        self.next = None\n",
    "    def __repr__(self):\n",
    "        p = self.next\n",
    "        ret = f\"{self.val} -> \"\n",
    "        while p:\n",
    "            ret += f\"{p.val} -> \"\n",
    "            p = p.next\n",
    "        return ret\n",
    "\n",
    "# create a singly linked list from a list of numbers\n",
    "def createSLL(l):\n",
    "    head = ListNode(l[0])\n",
    "    p = head\n",
    "    for i in range(1, len(l)):\n",
    "        nextNode = ListNode(l[i])\n",
    "        p.next = nextNode\n",
    "        p = p.next\n",
    "    return head\n",
    "\n",
    "test = createSLL([6,7,8,3,1,5,7])\n",
    "print(test)"
   ]
  },
  {
   "cell_type": "code",
   "execution_count": 3,
   "metadata": {},
   "outputs": [],
   "source": [
    "n1 = ListNode(5)\n",
    "n2 = ListNode(7)\n",
    "n3 = ListNode(5)\n",
    "n4 = ListNode(2)\n",
    "n5 = ListNode(6)\n",
    "n1.next = n2\n",
    "n2.next = n3\n",
    "n3.next = n4\n",
    "n4.next = n5"
   ]
  },
  {
   "cell_type": "markdown",
   "metadata": {},
   "source": [
    "## Remove duplicates"
   ]
  },
  {
   "cell_type": "code",
   "execution_count": 4,
   "metadata": {},
   "outputs": [
    {
     "name": "stdout",
     "output_type": "stream",
     "text": [
      "5 -> 7 -> 5 -> 2 -> 6 -> \n",
      "5 -> 7 -> 2 -> 6 -> \n"
     ]
    }
   ],
   "source": [
    "def removeDuplicates(head):\n",
    "    holder = set()\n",
    "    p = head\n",
    "    p2 = None\n",
    "    while p:\n",
    "        if p.val in holder:\n",
    "            p2.next = p.next\n",
    "            p = p.next\n",
    "        else:\n",
    "            holder.add(p.val)\n",
    "            p2 = p\n",
    "            p = p.next\n",
    "# print(n1)\n",
    "# removeDuplicates(n1)\n",
    "# print(n1)\n",
    "\n",
    "def removeDuplicatesNoBuffer(head):\n",
    "    # using two pointers to do it in O(N^2) time but O(1) space\n",
    "    p1 = head\n",
    "    while p1:\n",
    "        val = p1.val\n",
    "        prev = p1\n",
    "        p2 = p1.next\n",
    "\n",
    "        while p2:\n",
    "            if p2.val == val:\n",
    "                prev.next = p2.next\n",
    "                p2 = p2.next\n",
    "            else:\n",
    "                prev = p2\n",
    "                p2 = p2.next\n",
    "        p1 = p1.next\n",
    "\n",
    "\n",
    "print(n1)\n",
    "removeDuplicatesNoBuffer(n1)\n",
    "print(n1)"
   ]
  },
  {
   "cell_type": "markdown",
   "metadata": {},
   "source": [
    "## Return kth to last element of SLL (singly linked list)"
   ]
  },
  {
   "cell_type": "code",
   "execution_count": 5,
   "metadata": {},
   "outputs": [
    {
     "data": {
      "text/plain": [
       "2 -> 6 -> "
      ]
     },
     "execution_count": 5,
     "metadata": {},
     "output_type": "execute_result"
    }
   ],
   "source": [
    "def kthElement(head, k):\n",
    "    # could have k pointers and move them one each forward one in front of the other\n",
    "    # or just find the length of the list with one run through, then take length-k jumps from the head\n",
    "    # I will go with the latter\n",
    "    p = head\n",
    "    count = 0\n",
    "    while p:\n",
    "        count += 1\n",
    "        p = p.next\n",
    "    \n",
    "    p = head\n",
    "    for i in range(count - k):\n",
    "        p = p.next\n",
    "    \n",
    "    return p\n",
    "kthElement(n1, 2)"
   ]
  },
  {
   "cell_type": "markdown",
   "metadata": {},
   "source": [
    "## Delete middle node"
   ]
  },
  {
   "cell_type": "code",
   "execution_count": 6,
   "metadata": {},
   "outputs": [
    {
     "name": "stdout",
     "output_type": "stream",
     "text": [
      "5 -> 7 -> 2 -> 6 -> \n",
      "5 -> 2 -> 6 -> \n"
     ]
    }
   ],
   "source": [
    "# given a node that is not the first or the last in a singly linked list, delete a node that is not the first or the last node\n",
    "def deleteNodeInMiddle(n):\n",
    "    # copy the data of the node to the nodes after it\n",
    "    prev = n\n",
    "    p = n.next\n",
    "    while p:\n",
    "        data = p.val\n",
    "        prev.val = data\n",
    "\n",
    "        if p.next == None:\n",
    "            prev.next = None\n",
    "            break\n",
    "        else:\n",
    "            prev = p\n",
    "            p = p.next\n",
    "    \n",
    "print(n1)\n",
    "deleteNodeInMiddle(n2)\n",
    "print(n1)\n",
    "\n",
    "\n"
   ]
  },
  {
   "cell_type": "markdown",
   "metadata": {},
   "source": [
    "## Partition a list based on a value (left part has nodes with values less than, right part has nodes with values greater than or equal)"
   ]
  },
  {
   "cell_type": "code",
   "execution_count": 7,
   "metadata": {},
   "outputs": [
    {
     "name": "stdout",
     "output_type": "stream",
     "text": [
      "6 -> 7 -> 8 -> 3 -> 1 -> 5 -> 7 -> \n",
      "7 -> 8 -> 3 -> 1 -> 5 -> 7 -> \n",
      "8 -> 3 -> 1 -> 5 -> 7 -> \n",
      "3 -> 1 -> 5 -> 7 -> \n",
      "1 -> 5 -> 7 -> \n",
      "5 -> 7 -> \n",
      "7 -> \n"
     ]
    },
    {
     "data": {
      "text/plain": [
       "3 -> 1 -> 6 -> 7 -> 8 -> 5 -> 7 -> "
      ]
     },
     "execution_count": 7,
     "metadata": {},
     "output_type": "execute_result"
    }
   ],
   "source": [
    "def partition(head, val):\n",
    "    p = head\n",
    "    pGTE = None\n",
    "    pGTEH = None\n",
    "    pLT = None\n",
    "    pLTH = None\n",
    "\n",
    "    while p:\n",
    "        print(p)\n",
    "        if p.val < val:\n",
    "            if pLT:\n",
    "                pLT.next = p\n",
    "                pLT = p\n",
    "            else:\n",
    "                pLTH = p\n",
    "                pLT = pLTH\n",
    "        else:\n",
    "            if pGTE:\n",
    "                pGTE.next = p\n",
    "                pGTE = p\n",
    "            else:\n",
    "                pGTEH = p\n",
    "                pGTE = p\n",
    "        p = p.next\n",
    "\n",
    "    # then make the end of pLT point to pGTEH\n",
    "    pLT.next = pGTEH\n",
    "    return pLTH\n",
    "partition(test, 5)"
   ]
  },
  {
   "cell_type": "markdown",
   "metadata": {},
   "source": [
    "## Sum lists as digits"
   ]
  },
  {
   "cell_type": "code",
   "execution_count": 8,
   "metadata": {},
   "outputs": [
    {
     "name": "stdout",
     "output_type": "stream",
     "text": [
      "0 -> 4 -> 1 -> 2 -> \n"
     ]
    }
   ],
   "source": [
    "def sumLists(head1, head2):\n",
    "    p1 = head1\n",
    "    p2 = head2\n",
    "    carry = 0\n",
    "    retHead = ListNode((p1.val + p2.val) % 10)\n",
    "    retP = retHead\n",
    "    carry = (p1.val + p2.val) // 10\n",
    "    p1 = p1.next\n",
    "    p2 = p2.next\n",
    "\n",
    "    while p1 or p2:\n",
    "        if p1 and p2:\n",
    "            newNode = ListNode((p1.val + p2.val + carry) % 10)\n",
    "            carry = (p1.val + p2.val + carry) // 10\n",
    "            retP.next = newNode\n",
    "            retP = retP.next\n",
    "\n",
    "            p1 = p1.next\n",
    "            p2 = p2.next\n",
    "        elif p1:\n",
    "            newNode = ListNode((p1.val + carry) % 10)\n",
    "            carry = (p1.val + carry) // 10\n",
    "            retP.next = newNode\n",
    "            retP = retP.next\n",
    "\n",
    "            p1 = p1.next\n",
    "        elif p2:\n",
    "            newNode = ListNode((p2.val + carry) % 10)\n",
    "            carry = (p2.val + carry) // 10\n",
    "            retP.next = newNode\n",
    "            retP = retP.next\n",
    "\n",
    "            p2 = p2.next\n",
    "    return retHead\n",
    "\n",
    "t1 = createSLL([7,9,2])\n",
    "t2 = createSLL([3,4,8,1])\n",
    "print(sumLists(t1, t2))\n"
   ]
  },
  {
   "cell_type": "markdown",
   "metadata": {},
   "source": [
    "## Check if a linked list is a palindrome"
   ]
  },
  {
   "cell_type": "code",
   "execution_count": 9,
   "metadata": {},
   "outputs": [
    {
     "name": "stdout",
     "output_type": "stream",
     "text": [
      "True\n",
      "False\n",
      "True\n",
      "True\n"
     ]
    }
   ],
   "source": [
    "def is_palindrome(head):\n",
    "    # could just add all nodes to a list and check if the list is a palindrome - O(n) time and O(n) space\n",
    "    p = head\n",
    "    holder = []\n",
    "    while p:\n",
    "        holder.append(p.val)\n",
    "        p = p.next\n",
    "    start = 0\n",
    "    end = len(holder) - 1\n",
    "    while end - start > 0:\n",
    "        if holder[end] != holder[start]:\n",
    "            return False\n",
    "        end -= 1\n",
    "        start += 1\n",
    "    return True\n",
    "test_palindrome = createSLL([4,4,5,4,4])\n",
    "test_palindrome_N = createSLL([3,4,5,4,4])\n",
    "print(is_palindrome(test_palindrome))\n",
    "print(is_palindrome(test_palindrome_N))\n",
    "\n",
    "# two pointer method to find midpoint and reverse links of first half so can then check if two linked lists are equivalent\n",
    "def is_palindrome_O1_space(head):\n",
    "    slow = head\n",
    "    prevslow = None\n",
    "    fast = head\n",
    "    while fast and fast.next:\n",
    "        fast = fast.next.next\n",
    "        nextslow = slow.next\n",
    "        slow.next = prevslow\n",
    "        prevslow = slow\n",
    "        slow = nextslow\n",
    "    if fast:\n",
    "        slow = slow.next\n",
    "    \n",
    "    while slow and prevslow:\n",
    "        if prevslow.val != slow.val:\n",
    "            return False\n",
    "        prevslow = prevslow.next\n",
    "        slow = slow.next\n",
    "    \n",
    "    return prevslow is None and slow is None\n",
    "\n",
    "test_palindrome = createSLL([8,9,10,9,8])\n",
    "test_palindrome_N = createSLL([2,4,8,8,4,2])\n",
    "print(is_palindrome_O1_space(test_palindrome))\n",
    "print(is_palindrome_O1_space(test_palindrome_N))"
   ]
  },
  {
   "cell_type": "markdown",
   "metadata": {},
   "source": [
    "## Determine if intersecting"
   ]
  },
  {
   "cell_type": "code",
   "execution_count": 10,
   "metadata": {},
   "outputs": [
    {
     "name": "stdout",
     "output_type": "stream",
     "text": [
      "l1: 1 -> 2 -> 3 -> 4 -> \n",
      "l2: 7 -> 3 -> 4 -> \n",
      "brute: 3 -> 4 -> \n",
      "smart: 3 -> 4 -> \n"
     ]
    }
   ],
   "source": [
    "# test if two list intersect at a particular node (by reference)\n",
    "def brute_intersecting(head1, head2):\n",
    "    p1 = head1\n",
    "    while p1:\n",
    "        p2 = head2\n",
    "        while p2:\n",
    "            if p2 == p1:\n",
    "                return p2\n",
    "            p2 = p2.next\n",
    "        p1 = p1.next\n",
    "    return None\n",
    "\n",
    "# O(A+B) time and O(1) space\n",
    "def smart_intersecting(h1, h2):\n",
    "    # first get lengths\n",
    "    def getLength(h):\n",
    "        c = 0\n",
    "        p = h\n",
    "        while p:\n",
    "            c += 1\n",
    "            p = p.next\n",
    "        return c\n",
    "    l1 = getLength(h1)\n",
    "    l2 = getLength(h2)\n",
    "\n",
    "    # get diffs\n",
    "    if l1 > l2:\n",
    "        diff = l1 - l2\n",
    "        p = h1\n",
    "        for i in range(diff):\n",
    "            p = p.next\n",
    "        p2 = h2\n",
    "        while p and p2:\n",
    "            if p == p2:\n",
    "                return p\n",
    "            else:\n",
    "                p = p.next\n",
    "                p2 = p2.next\n",
    "    else:\n",
    "        diff = l2 - l1\n",
    "        p = h2\n",
    "        for i in range(diff):\n",
    "            p = p.next\n",
    "        p2 = h1\n",
    "        while p and p2:\n",
    "            if p == p2:\n",
    "                return p\n",
    "            else:\n",
    "                p = p.next\n",
    "                p2 = p2.next\n",
    "\n",
    "\n",
    "l1 = createSLL([1,2,3,4])\n",
    "l2 = ListNode(7)\n",
    "l2.next = l1.next.next\n",
    "print(f\"l1: {l1}\")\n",
    "print(f\"l2: {l2}\")\n",
    "print(f\"brute: {brute_intersecting(l1,l2)}\")\n",
    "print(f\"smart: {smart_intersecting(l1,l2)}\")"
   ]
  }
 ],
 "metadata": {
  "kernelspec": {
   "display_name": "base",
   "language": "python",
   "name": "python3"
  },
  "language_info": {
   "codemirror_mode": {
    "name": "ipython",
    "version": 3
   },
   "file_extension": ".py",
   "mimetype": "text/x-python",
   "name": "python",
   "nbconvert_exporter": "python",
   "pygments_lexer": "ipython3",
   "version": "3.12.2"
  }
 },
 "nbformat": 4,
 "nbformat_minor": 2
}
