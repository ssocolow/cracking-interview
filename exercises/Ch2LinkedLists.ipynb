{
 "cells": [
  {
   "cell_type": "markdown",
   "metadata": {},
   "source": [
    "# Linked Lists"
   ]
  },
  {
   "cell_type": "code",
   "execution_count": 3,
   "metadata": {},
   "outputs": [],
   "source": [
    "class ListNode:\n",
    "    def __init__(self, val):\n",
    "        self.val = val\n",
    "        self.next = None\n",
    "    def __repr__(self):\n",
    "        p = self.next\n",
    "        ret = f\"{self.val} -> \"\n",
    "        while p:\n",
    "            ret += f\"{p.val} -> \"\n",
    "            p = p.next\n",
    "        return ret\n"
   ]
  },
  {
   "cell_type": "code",
   "execution_count": 4,
   "metadata": {},
   "outputs": [],
   "source": [
    "n1 = ListNode(5)\n",
    "n2 = ListNode(7)\n",
    "n3 = ListNode(5)\n",
    "n4 = ListNode(2)\n",
    "n5 = ListNode(6)\n",
    "n1.next = n2\n",
    "n2.next = n3\n",
    "n3.next = n4\n",
    "n4.next = n5"
   ]
  },
  {
   "cell_type": "markdown",
   "metadata": {},
   "source": [
    "## Remove duplicates"
   ]
  },
  {
   "cell_type": "code",
   "execution_count": 5,
   "metadata": {},
   "outputs": [
    {
     "name": "stdout",
     "output_type": "stream",
     "text": [
      "5 -> 7 -> 5 -> 2 -> 6 -> \n",
      "5 -> 7 -> 2 -> 6 -> \n"
     ]
    }
   ],
   "source": [
    "def removeDuplicates(head):\n",
    "    holder = set()\n",
    "    p = head\n",
    "    p2 = None\n",
    "    while p:\n",
    "        if p.val in holder:\n",
    "            p2.next = p.next\n",
    "            p = p.next\n",
    "        else:\n",
    "            holder.add(p.val)\n",
    "            p2 = p\n",
    "            p = p.next\n",
    "print(n1)\n",
    "removeDuplicates(n1)\n",
    "print(n1)\n"
   ]
  }
 ],
 "metadata": {
  "kernelspec": {
   "display_name": "base",
   "language": "python",
   "name": "python3"
  },
  "language_info": {
   "codemirror_mode": {
    "name": "ipython",
    "version": 3
   },
   "file_extension": ".py",
   "mimetype": "text/x-python",
   "name": "python",
   "nbconvert_exporter": "python",
   "pygments_lexer": "ipython3",
   "version": "3.12.2"
  }
 },
 "nbformat": 4,
 "nbformat_minor": 2
}
