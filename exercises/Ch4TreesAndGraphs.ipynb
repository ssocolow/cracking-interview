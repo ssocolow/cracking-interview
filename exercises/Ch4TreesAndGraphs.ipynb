{
 "cells": [
  {
   "cell_type": "markdown",
   "metadata": {},
   "source": [
    "# Trees and Graphs"
   ]
  },
  {
   "cell_type": "code",
   "execution_count": 2,
   "metadata": {},
   "outputs": [
    {
     "name": "stdout",
     "output_type": "stream",
     "text": [
      "s: ['p', 'm']\n",
      "p: []\n",
      "m: ['l']\n",
      "l: []\n",
      "r: ['e']\n",
      "e: []\n"
     ]
    }
   ],
   "source": [
    "class Graph:\n",
    "    def __init__(self):\n",
    "        self.nodes = []\n",
    "    def __str__(self):\n",
    "        return \"\\n\".join([f\"{node}: {[friend.name for friend in node.friends]}\" for node in self.nodes])\n",
    "        # return \"\".join([f\"{f}: {f.friends}\" for f in self.nodes])\n",
    "\n",
    "class Node:\n",
    "    def __init__(self, name):\n",
    "        self.friends = []\n",
    "        self.name = name\n",
    "    def __str__(self):\n",
    "        return self.name\n",
    "\n",
    "s = Node(\"s\")\n",
    "p = Node(\"p\")\n",
    "m = Node(\"m\")\n",
    "l = Node(\"l\")\n",
    "r = Node(\"r\")\n",
    "e = Node(\"e\")\n",
    "\n",
    "s.friends = [p, m]\n",
    "m.friends = [l]\n",
    "r.friends = [e]\n",
    "g = Graph()\n",
    "g.nodes = [s, p, m, l, r, e]\n",
    "print(g)"
   ]
  },
  {
   "cell_type": "markdown",
   "metadata": {},
   "source": [
    "## Route between nodes"
   ]
  },
  {
   "cell_type": "code",
   "execution_count": 3,
   "metadata": {},
   "outputs": [
    {
     "name": "stdout",
     "output_type": "stream",
     "text": [
      "False\n"
     ]
    }
   ],
   "source": [
    "from collections import deque\n",
    "\n",
    "def isThereARoute(n1, n2):\n",
    "    # do BFS from n1 to find n2\n",
    "    q = deque()\n",
    "    marked = set()\n",
    "    q.append(n1)\n",
    "    while q:\n",
    "        n = q.popleft()\n",
    "        if n == n2:\n",
    "            return True\n",
    "        else:\n",
    "            if n in marked:\n",
    "                pass\n",
    "            else:\n",
    "                marked.add(n)\n",
    "                for friend in n.friends:\n",
    "                    q.append(friend)\n",
    "    return False\n",
    "print(isThereARoute(s, e))"
   ]
  },
  {
   "cell_type": "markdown",
   "metadata": {},
   "source": [
    "## Generate Balanced Binary Search Tree from Array"
   ]
  },
  {
   "cell_type": "code",
   "execution_count": 4,
   "metadata": {},
   "outputs": [],
   "source": [
    "class TreeNode:\n",
    "    def __init__(self, val):\n",
    "        self.val = val\n",
    "        self.left = None\n",
    "        self.right = None\n",
    "    def __str__(self):\n",
    "        return f\"{self.val}: ( {self.left} - {self.right} )\"\n",
    "    def __repr__(self):\n",
    "        return f\"{self.val}: ( {self.left} - {self.right} )\""
   ]
  },
  {
   "cell_type": "code",
   "execution_count": 5,
   "metadata": {},
   "outputs": [
    {
     "name": "stdout",
     "output_type": "stream",
     "text": [
      "5: ( 2: ( 1: ( None - None ) - 3: ( None - 4: ( None - None ) ) ) - 8: ( 6: ( None - 7: ( None - None ) ) - 9: ( None - 10: ( None - None ) ) ) )\n"
     ]
    }
   ],
   "source": [
    "# basically do binary search where each midpoint becomes a node in the tree\n",
    "a = [1,2,3,4,5,6,7,8,9,10]\n",
    "\n",
    "def createBST(arr):\n",
    "    # print(arr)\n",
    "    if arr:\n",
    "        l = 0\n",
    "        r = len(arr) - 1\n",
    "        mid = (l + r) // 2\n",
    "        root = TreeNode(arr[mid])\n",
    "        root.left = createBST(arr[0:mid])\n",
    "        root.right = createBST(arr[mid+1:])\n",
    "        return root\n",
    "    else:\n",
    "        return None\n",
    "\n",
    "t = createBST(a)\n",
    "print(t)"
   ]
  },
  {
   "cell_type": "markdown",
   "metadata": {},
   "source": [
    "## List of depths"
   ]
  },
  {
   "cell_type": "code",
   "execution_count": 6,
   "metadata": {},
   "outputs": [
    {
     "name": "stdout",
     "output_type": "stream",
     "text": [
      "4\n",
      "[5 -> None, 2 -> 8 -> None, 1 -> 3 -> 6 -> 9 -> None, 4 -> 7 -> 10 -> None]\n"
     ]
    }
   ],
   "source": [
    "from collections import deque\n",
    "\n",
    "class ListNode:\n",
    "    def __init__(self, val):\n",
    "        self.next = None\n",
    "        self.val = val\n",
    "    def __repr__(self):\n",
    "        return f\"{str(self.val)} -> {self.next}\"\n",
    "    \n",
    "# input binary tree - output a list of singly linked lists where each list contains all the nodes at a certain level of the tree\n",
    "def listOfDepths(tree):\n",
    "    # maintain a queue for each depth\n",
    "    q = deque()\n",
    "    q.append(tree)\n",
    "    slls = []\n",
    "\n",
    "    while q:\n",
    "\n",
    "        l = len(q)\n",
    "        current_level_head = None\n",
    "        current_level_tail = None\n",
    "\n",
    "        for i in range(l):\n",
    "            n = q.popleft()\n",
    "            listnode = ListNode(n.val)\n",
    "\n",
    "            if not current_level_head:\n",
    "                current_level_head = listnode\n",
    "                current_level_tail = listnode\n",
    "            else:\n",
    "                current_level_tail.next = listnode\n",
    "                current_level_tail = current_level_tail.next\n",
    "\n",
    "            if n.left:\n",
    "                q.append(n.left)\n",
    "            if n.right:\n",
    "                q.append(n.right)\n",
    "        \n",
    "        if current_level_head:\n",
    "            slls.append(current_level_head)\n",
    "    \n",
    "    return slls\n",
    "\n",
    "\n",
    "s = listOfDepths(t)\n",
    "print(len(s))\n",
    "print(s)"
   ]
  },
  {
   "cell_type": "markdown",
   "metadata": {},
   "source": [
    "## Check balanced"
   ]
  },
  {
   "cell_type": "code",
   "execution_count": 7,
   "metadata": {},
   "outputs": [
    {
     "name": "stdout",
     "output_type": "stream",
     "text": [
      "True\n",
      "False\n"
     ]
    }
   ],
   "source": [
    "# check if the heights of the left and right subtree of each node differ by more than one\n",
    "def checkBalanced(tree):\n",
    "    if not tree:\n",
    "        return True\n",
    "    l = getHeight(tree.left)\n",
    "    r = getHeight(tree.right)\n",
    "    if abs(l - r) > 1:\n",
    "        return False\n",
    "    else:\n",
    "        return checkBalanced(tree.left) and checkBalanced(tree.right)\n",
    "\n",
    "def getHeight(tree):\n",
    "    if not tree:\n",
    "        return 0\n",
    "    if (not tree.left) and (not tree.right):\n",
    "        return 1\n",
    "    else:\n",
    "        return 1 + max(getHeight(tree.left), getHeight(tree.right))\n",
    "\n",
    "t.left.right.right.right = None\n",
    "print(checkBalanced(t))\n",
    "t.left.right.right.right = TreeNode(4.5)\n",
    "print(checkBalanced(t))"
   ]
  },
  {
   "cell_type": "markdown",
   "metadata": {},
   "source": [
    "## Validate BST"
   ]
  },
  {
   "cell_type": "code",
   "execution_count": 8,
   "metadata": {},
   "outputs": [
    {
     "name": "stdout",
     "output_type": "stream",
     "text": [
      "True\n",
      "False\n"
     ]
    }
   ],
   "source": [
    "# check if a binary tree is a BST\n",
    "def validateBST(root, minn, maxx):\n",
    "    # for each node check if node.left < node < node.right and that node.left > minmin and node.right < maxmax\n",
    "    # print(root, minn, maxx)\n",
    "    if not root:\n",
    "        return True\n",
    "    else:\n",
    "        if (not root.left) and (not root.right):\n",
    "            # print('returning true')\n",
    "            return True\n",
    "        else:\n",
    "            l = True\n",
    "            r = True\n",
    "            if root.left:\n",
    "                if root.left.val >= root.val or root.left.val < minn:\n",
    "                    return False\n",
    "                else:\n",
    "                    l = validateBST(root.left, minn, root.val)\n",
    "            if root.right:\n",
    "                if root.right.val <= root.val or root.right.val > maxx:\n",
    "                    return False\n",
    "                else:\n",
    "                    r = validateBST(root.right, root.val, maxx)\n",
    "            return r and l\n",
    "\n",
    "t.left.right.right.right.val = 4.5\n",
    "print(validateBST(t, -99999, 999999))\n",
    "t.left.right.right.right.val = 12\n",
    "print(validateBST(t, -99999, 999999))"
   ]
  },
  {
   "cell_type": "markdown",
   "metadata": {},
   "source": [
    "## Successor"
   ]
  },
  {
   "cell_type": "code",
   "execution_count": 9,
   "metadata": {},
   "outputs": [],
   "source": [
    "# given a bst with backlinks, find the next greater stored value\n",
    "def successor(node):\n",
    "    # this will be the leftmost value of the right subtree\n",
    "    if node.right:\n",
    "        p = node.right\n",
    "        while p.left:\n",
    "            if p.left:\n",
    "                p = p.left\n",
    "        return p\n",
    "\n",
    "    # or if there is no right subtree, work back up the tree until encountering somthing that is greater\n",
    "    else:\n",
    "        v = node.val\n",
    "        p = node\n",
    "        while p and p.val <= v:\n",
    "            p = p.parent\n",
    "        return p"
   ]
  },
  {
   "cell_type": "markdown",
   "metadata": {},
   "source": [
    "## Build order"
   ]
  },
  {
   "cell_type": "code",
   "execution_count": 10,
   "metadata": {},
   "outputs": [],
   "source": [
    "class GraphNode:\n",
    "    def __init__(self, val):\n",
    "        self.val = val\n",
    "        self.required_for = set()\n",
    "    def __repr__(self):\n",
    "        targets = ', '.join(str(n.val) for n in self.required_for)\n",
    "        return f\"{self.val}: pointing to {targets} |\""
   ]
  },
  {
   "cell_type": "code",
   "execution_count": 11,
   "metadata": {},
   "outputs": [
    {
     "data": {
      "text/plain": [
       "[e: pointing to  |,\n",
       " f: pointing to b, a |,\n",
       " b: pointing to d |,\n",
       " a: pointing to d |,\n",
       " d: pointing to c |,\n",
       " c: pointing to  |]"
      ]
     },
     "execution_count": 11,
     "metadata": {},
     "output_type": "execute_result"
    }
   ],
   "source": [
    "# which order to build projects based on dependencies\n",
    "def buildOrder(projects, dependencies):\n",
    "    # make DAG\n",
    "    nodes = {}\n",
    "    for p in projects:\n",
    "        nodes[p] = 0\n",
    "    for required, dependent in dependencies:\n",
    "        required.required_for.add(dependent)\n",
    "        nodes[dependent] += 1\n",
    "    \n",
    "    # print(nodes)\n",
    "    # add all projects that have no dependencies to the queue\n",
    "    q = deque()\n",
    "    for n, score in nodes.items():\n",
    "        if score == 0:\n",
    "            q.append(n)\n",
    "    \n",
    "    # if no building possible\n",
    "    if len(q) == 0:\n",
    "        return None\n",
    "    \n",
    "    # print(q)\n",
    "    ret = []\n",
    "    # pop from queue, decrement the dependency count of projects it is required for, and add any that are at zero to the queue\n",
    "    while q:\n",
    "        n = q.popleft()\n",
    "        ret.append(n)\n",
    "        for p in n.required_for:\n",
    "            nodes[p] -= 1\n",
    "            if nodes[p] == 0:\n",
    "                q.append(p)\n",
    "    return ret\n",
    "\n",
    "\n",
    "\n",
    "a = GraphNode('a')\n",
    "b = GraphNode('b')\n",
    "c = GraphNode('c')\n",
    "d = GraphNode('d')\n",
    "e = GraphNode('e')\n",
    "f = GraphNode('f')\n",
    "buildOrder([a,b,c,d,e,f], [(a,d),(f,b),(b,d),(f,a),(d,c)])\n"
   ]
  },
  {
   "cell_type": "markdown",
   "metadata": {},
   "source": [
    "## First common ancestor"
   ]
  },
  {
   "cell_type": "code",
   "execution_count": 12,
   "metadata": {},
   "outputs": [
    {
     "data": {
      "text/plain": [
       "2: ( 4: ( 12: ( None - None ) - None ) - 5: ( None - 9: ( None - None ) ) )"
      ]
     },
     "execution_count": 12,
     "metadata": {},
     "output_type": "execute_result"
    }
   ],
   "source": [
    "# given a binary tree and two nodes in that tree, return the first common ancestor of the two nodes in the tree\n",
    "\n",
    "# check if r contains n\n",
    "def contains(r, n):\n",
    "    if r == n:\n",
    "        return True\n",
    "    elif r is None:\n",
    "        return False\n",
    "    else:\n",
    "        return contains(r.left, n) or contains(r.right, n)\n",
    "\n",
    "def isLCA(root, n1, n2):\n",
    "    # if left subtree has it\n",
    "    if contains(root.left, n1):\n",
    "        if contains(root.right, n2):\n",
    "            return root\n",
    "        else:\n",
    "            return isLCA(root.left, n1, n2)\n",
    "        \n",
    "    if contains(root.left, n2):\n",
    "        if contains(root.right, n1):\n",
    "            return root\n",
    "        else:\n",
    "            return isLCA(root.left, n1, n2)\n",
    "    \n",
    "    if contains(root.right, n1):\n",
    "        if contains(root.left, n2):\n",
    "            return root\n",
    "        else:\n",
    "            return isLCA(root.right, n1, n2)\n",
    "        \n",
    "    if contains(root.left, n2):\n",
    "        if contains(root.right, n1):\n",
    "            return root\n",
    "        else:\n",
    "            return isLCA(root.right, n1, n2)\n",
    "\n",
    "one = TreeNode(1)\n",
    "two = TreeNode(2)\n",
    "three = TreeNode(3)\n",
    "four = TreeNode(4)\n",
    "five = TreeNode(5)\n",
    "seven = TreeNode(7)\n",
    "twelve = TreeNode(12)\n",
    "nine = TreeNode(9)\n",
    "\n",
    "one.left = two\n",
    "one.right = three\n",
    "two.left = four\n",
    "two.right = five\n",
    "three.right = seven\n",
    "four.left = twelve\n",
    "five.right = nine\n",
    "\n",
    "isLCA(one, twelve, five)"
   ]
  },
  {
   "cell_type": "markdown",
   "metadata": {},
   "source": [
    "## BST Sequences"
   ]
  },
  {
   "cell_type": "code",
   "execution_count": null,
   "metadata": {},
   "outputs": [],
   "source": [
    "# first element must always be the root\n",
    "# can make the left and right subtree from any order\n",
    "def getAllArrays(root):\n",
    "    if not root:\n",
    "        return []\n",
    "    else:\n",
    "        if root.left and root.right:\n",
    "            return getOrderedPerumuations(getAllArrays(root.left), getAllArrays(root.right))\n",
    "        elif root.left:\n",
    "            return getOrderedPerumtations(getAllArrays(root.left))\n",
    "        elif root.right:\n",
    "            return getOrderedPerumtations(getAllArrays(root.right))\n",
    "        else:\n",
    "            return [root.val]\n",
    "\n",
    "# if [1,2,4] and [5,6,7] are the two arrays,\n",
    "# ordered perms returns all the permuatations of the union where order of each individual list is maintained, so like [5,6,1,7,2,4]\n",
    "def getOrderedPermutations(*args):\n",
    "        if len(args) == 1:\n",
    "            return \n",
    "        \n",
    "        for el in l:\n",
    "            el.append(root.val)\n",
    "        if root.left and root.right:\n",
    "            x = getAllArrays(root.left, l)\n",
    "            y = getAllArrays(root.right, l)\n",
    "            ret = x + y\n",
    "            return ret\n",
    "        else:\n",
    "            if root.left:\n",
    "                for el in l:\n",
    "                    el.append(root.left.val)\n",
    "                \n",
    "            if root.right:\n",
    "                for el in l:\n",
    "                    el.append(root.left.val)\n",
    "            return l\n",
    "    else:\n",
    "\n",
    "getAllArrays(root)\n"
   ]
  }
 ],
 "metadata": {
  "kernelspec": {
   "display_name": "base",
   "language": "python",
   "name": "python3"
  },
  "language_info": {
   "codemirror_mode": {
    "name": "ipython",
    "version": 3
   },
   "file_extension": ".py",
   "mimetype": "text/x-python",
   "name": "python",
   "nbconvert_exporter": "python",
   "pygments_lexer": "ipython3",
   "version": "3.12.2"
  }
 },
 "nbformat": 4,
 "nbformat_minor": 2
}
