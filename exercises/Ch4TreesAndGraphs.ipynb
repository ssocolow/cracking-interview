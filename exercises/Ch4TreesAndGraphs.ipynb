{
 "cells": [
  {
   "cell_type": "markdown",
   "metadata": {},
   "source": [
    "# Trees and Graphs"
   ]
  },
  {
   "cell_type": "code",
   "execution_count": null,
   "metadata": {},
   "outputs": [
    {
     "name": "stdout",
     "output_type": "stream",
     "text": [
      "s: ['p', 'm']\n",
      "p: []\n",
      "m: ['l']\n",
      "l: []\n",
      "r: ['e']\n",
      "e: []\n"
     ]
    }
   ],
   "source": [
    "class Graph:\n",
    "    def __init__(self):\n",
    "        self.nodes = []\n",
    "    def __str__(self):\n",
    "        return \"\\n\".join([f\"{node}: {[friend.name for friend in node.friends]}\" for node in self.nodes])\n",
    "        # return \"\".join([f\"{f}: {f.friends}\" for f in self.nodes])\n",
    "\n",
    "class Node:\n",
    "    def __init__(self, name):\n",
    "        self.friends = []\n",
    "        self.name = name\n",
    "    def __str__(self):\n",
    "        return self.name\n",
    "\n",
    "s = Node(\"s\")\n",
    "p = Node(\"p\")\n",
    "m = Node(\"m\")\n",
    "l = Node(\"l\")\n",
    "r = Node(\"r\")\n",
    "e = Node(\"e\")\n",
    "\n",
    "s.friends = [p, m]\n",
    "m.friends = [l]\n",
    "r.friends = [e]\n",
    "g = Graph()\n",
    "g.nodes = [s, p, m, l, r, e]\n",
    "print(g)"
   ]
  },
  {
   "cell_type": "markdown",
   "metadata": {},
   "source": [
    "## Route between nodes"
   ]
  },
  {
   "cell_type": "code",
   "execution_count": 1,
   "metadata": {},
   "outputs": [
    {
     "ename": "NameError",
     "evalue": "name 's' is not defined",
     "output_type": "error",
     "traceback": [
      "\u001b[0;31m---------------------------------------------------------------------------\u001b[0m",
      "\u001b[0;31mNameError\u001b[0m                                 Traceback (most recent call last)",
      "Cell \u001b[0;32mIn[1], line 20\u001b[0m\n\u001b[1;32m     18\u001b[0m                     q\u001b[38;5;241m.\u001b[39mappend(friend)\n\u001b[1;32m     19\u001b[0m     \u001b[38;5;28;01mreturn\u001b[39;00m \u001b[38;5;28;01mFalse\u001b[39;00m\n\u001b[0;32m---> 20\u001b[0m \u001b[38;5;28mprint\u001b[39m(isThereARoute(\u001b[43ms\u001b[49m, e))\n",
      "\u001b[0;31mNameError\u001b[0m: name 's' is not defined"
     ]
    }
   ],
   "source": [
    "from collections import deque\n",
    "\n",
    "def isThereARoute(n1, n2):\n",
    "    # do BFS from n1 to find n2\n",
    "    q = deque()\n",
    "    marked = set()\n",
    "    q.append(n1)\n",
    "    while q:\n",
    "        n = q.popleft()\n",
    "        if n == n2:\n",
    "            return True\n",
    "        else:\n",
    "            if n in marked:\n",
    "                pass\n",
    "            else:\n",
    "                marked.add(n)\n",
    "                for friend in n.friends:\n",
    "                    q.append(friend)\n",
    "    return False\n",
    "print(isThereARoute(s, e))"
   ]
  },
  {
   "cell_type": "markdown",
   "metadata": {},
   "source": [
    "## Generate Balanced Binary Search Tree from Array"
   ]
  },
  {
   "cell_type": "code",
   "execution_count": null,
   "metadata": {},
   "outputs": [],
   "source": [
    "class TreeNode:\n",
    "    def __init__(self, val):\n",
    "        self.val = val\n",
    "        self.left = None\n",
    "        self.right = None\n",
    "    def __str__(self):\n",
    "        return f\"{self.val}: ( {self.left} - {self.right} )\"\n",
    "    def __repr__(self):\n",
    "        return f\"{self.val}: ( {self.left} - {self.right} )\""
   ]
  },
  {
   "cell_type": "code",
   "execution_count": null,
   "metadata": {},
   "outputs": [
    {
     "name": "stdout",
     "output_type": "stream",
     "text": [
      "5: ( 2: ( 1: ( None - None ) - 3: ( None - 4: ( None - None ) ) ) - 8: ( 6: ( None - 7: ( None - None ) ) - 9: ( None - 10: ( None - None ) ) ) )\n"
     ]
    }
   ],
   "source": [
    "# basically do binary search where each midpoint becomes a node in the tree\n",
    "a = [1,2,3,4,5,6,7,8,9,10]\n",
    "\n",
    "def createBST(arr):\n",
    "    # print(arr)\n",
    "    if arr:\n",
    "        l = 0\n",
    "        r = len(arr) - 1\n",
    "        mid = (l + r) // 2\n",
    "        root = TreeNode(arr[mid])\n",
    "        root.left = createBST(arr[0:mid])\n",
    "        root.right = createBST(arr[mid+1:])\n",
    "        return root\n",
    "    else:\n",
    "        return None\n",
    "\n",
    "t = createBST(a)\n",
    "print(t)"
   ]
  },
  {
   "cell_type": "markdown",
   "metadata": {},
   "source": [
    "## List of depths"
   ]
  },
  {
   "cell_type": "code",
   "execution_count": null,
   "metadata": {},
   "outputs": [
    {
     "name": "stdout",
     "output_type": "stream",
     "text": [
      "4\n",
      "[5 -> None, 2 -> 8 -> None, 1 -> 3 -> 6 -> 9 -> None, 4 -> 7 -> 10 -> None]\n"
     ]
    }
   ],
   "source": [
    "from collections import deque\n",
    "\n",
    "class ListNode:\n",
    "    def __init__(self, val):\n",
    "        self.next = None\n",
    "        self.val = val\n",
    "    def __repr__(self):\n",
    "        return f\"{str(self.val)} -> {self.next}\"\n",
    "    \n",
    "# input binary tree - output a list of singly linked lists where each list contains all the nodes at a certain level of the tree\n",
    "def listOfDepths(tree):\n",
    "    # maintain a queue for each depth\n",
    "    q = deque()\n",
    "    q.append(tree)\n",
    "    slls = []\n",
    "\n",
    "    while q:\n",
    "\n",
    "        l = len(q)\n",
    "        current_level_head = None\n",
    "        current_level_tail = None\n",
    "\n",
    "        for i in range(l):\n",
    "            n = q.popleft()\n",
    "            listnode = ListNode(n.val)\n",
    "\n",
    "            if not current_level_head:\n",
    "                current_level_head = listnode\n",
    "                current_level_tail = listnode\n",
    "            else:\n",
    "                current_level_tail.next = listnode\n",
    "                current_level_tail = current_level_tail.next\n",
    "\n",
    "            if n.left:\n",
    "                q.append(n.left)\n",
    "            if n.right:\n",
    "                q.append(n.right)\n",
    "        \n",
    "        if current_level_head:\n",
    "            slls.append(current_level_head)\n",
    "    \n",
    "    return slls\n",
    "\n",
    "\n",
    "s = listOfDepths(t)\n",
    "print(len(s))\n",
    "print(s)"
   ]
  },
  {
   "cell_type": "markdown",
   "metadata": {},
   "source": [
    "## Check balanced"
   ]
  },
  {
   "cell_type": "code",
   "execution_count": null,
   "metadata": {},
   "outputs": [
    {
     "name": "stdout",
     "output_type": "stream",
     "text": [
      "True\n",
      "False\n"
     ]
    }
   ],
   "source": [
    "# check if the heights of the left and right subtree of each node differ by more than one\n",
    "def checkBalanced(tree):\n",
    "    if not tree:\n",
    "        return True\n",
    "    l = getHeight(tree.left)\n",
    "    r = getHeight(tree.right)\n",
    "    if abs(l - r) > 1:\n",
    "        return False\n",
    "    else:\n",
    "        return checkBalanced(tree.left) and checkBalanced(tree.right)\n",
    "\n",
    "def getHeight(tree):\n",
    "    if not tree:\n",
    "        return 0\n",
    "    if (not tree.left) and (not tree.right):\n",
    "        return 1\n",
    "    else:\n",
    "        return 1 + max(getHeight(tree.left), getHeight(tree.right))\n",
    "\n",
    "t.left.right.right.right = None\n",
    "print(checkBalanced(t))\n",
    "t.left.right.right.right = TreeNode(4.5)\n",
    "print(checkBalanced(t))"
   ]
  },
  {
   "cell_type": "markdown",
   "metadata": {},
   "source": [
    "## Validate BST"
   ]
  },
  {
   "cell_type": "code",
   "execution_count": null,
   "metadata": {},
   "outputs": [],
   "source": [
    "# check if a binary tree is a BST\n",
    "def validateBST(root):\n",
    "    # for each node check if node.left < node < node.right and that node.left > minmin and node.right < maxmax"
   ]
  }
 ],
 "metadata": {
  "kernelspec": {
   "display_name": "base",
   "language": "python",
   "name": "python3"
  },
  "language_info": {
   "codemirror_mode": {
    "name": "ipython",
    "version": 3
   },
   "file_extension": ".py",
   "mimetype": "text/x-python",
   "name": "python",
   "nbconvert_exporter": "python",
   "pygments_lexer": "ipython3",
   "version": "3.12.2"
  }
 },
 "nbformat": 4,
 "nbformat_minor": 2
}
