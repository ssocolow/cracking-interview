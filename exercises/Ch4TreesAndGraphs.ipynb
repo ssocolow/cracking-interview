{
 "cells": [
  {
   "cell_type": "markdown",
   "metadata": {},
   "source": [
    "# Trees and Graphs"
   ]
  },
  {
   "cell_type": "code",
   "execution_count": 10,
   "metadata": {},
   "outputs": [
    {
     "name": "stdout",
     "output_type": "stream",
     "text": [
      "s: ['p', 'm']\n",
      "p: []\n",
      "m: ['l']\n",
      "l: []\n",
      "r: ['e']\n",
      "e: []\n"
     ]
    }
   ],
   "source": [
    "class Graph:\n",
    "    def __init__(self):\n",
    "        self.nodes = []\n",
    "    def __str__(self):\n",
    "        return \"\\n\".join([f\"{node}: {[friend.name for friend in node.friends]}\" for node in self.nodes])\n",
    "        # return \"\".join([f\"{f}: {f.friends}\" for f in self.nodes])\n",
    "\n",
    "class Node:\n",
    "    def __init__(self, name):\n",
    "        self.friends = []\n",
    "        self.name = name\n",
    "    def __str__(self):\n",
    "        return self.name\n",
    "\n",
    "s = Node(\"s\")\n",
    "p = Node(\"p\")\n",
    "m = Node(\"m\")\n",
    "l = Node(\"l\")\n",
    "r = Node(\"r\")\n",
    "e = Node(\"e\")\n",
    "\n",
    "s.friends = [p, m]\n",
    "m.friends = [l]\n",
    "r.friends = [e]\n",
    "g = Graph()\n",
    "g.nodes = [s, p, m, l, r, e]\n",
    "print(g)"
   ]
  },
  {
   "cell_type": "markdown",
   "metadata": {},
   "source": [
    "## Route between nodes"
   ]
  },
  {
   "cell_type": "code",
   "execution_count": 12,
   "metadata": {},
   "outputs": [
    {
     "name": "stdout",
     "output_type": "stream",
     "text": [
      "False\n"
     ]
    }
   ],
   "source": [
    "from collections import deque\n",
    "\n",
    "def isThereARoute(n1, n2):\n",
    "    # do BFS from n1 to find n2\n",
    "    q = deque()\n",
    "    marked = set()\n",
    "    q.append(n1)\n",
    "    while q:\n",
    "        n = q.popleft()\n",
    "        if n == n2:\n",
    "            return True\n",
    "        else:\n",
    "            if n in marked:\n",
    "                pass\n",
    "            else:\n",
    "                marked.add(n)\n",
    "                for friend in n.friends:\n",
    "                    q.append(friend)\n",
    "    return False\n",
    "print(isThereARoute(s, e))"
   ]
  }
 ],
 "metadata": {
  "kernelspec": {
   "display_name": "base",
   "language": "python",
   "name": "python3"
  },
  "language_info": {
   "codemirror_mode": {
    "name": "ipython",
    "version": 3
   },
   "file_extension": ".py",
   "mimetype": "text/x-python",
   "name": "python",
   "nbconvert_exporter": "python",
   "pygments_lexer": "ipython3",
   "version": "3.12.2"
  }
 },
 "nbformat": 4,
 "nbformat_minor": 2
}
