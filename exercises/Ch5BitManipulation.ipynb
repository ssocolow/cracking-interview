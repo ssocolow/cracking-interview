{
 "cells": [
  {
   "cell_type": "markdown",
   "id": "9e06544e",
   "metadata": {},
   "source": [
    "# Ch. 5 Bit manipulation"
   ]
  },
  {
   "cell_type": "markdown",
   "id": "7f424d1d",
   "metadata": {},
   "source": [
    "## Insertion"
   ]
  },
  {
   "cell_type": "code",
   "execution_count": 2,
   "id": "ce3e3ece",
   "metadata": {},
   "outputs": [
    {
     "name": "stdout",
     "output_type": "stream",
     "text": [
      "0b10001001100\n"
     ]
    }
   ],
   "source": [
    "# given two 32 bit nums M and N, insert M into N at pos j and i\n",
    "def insertBits(M,N,j,i):\n",
    "    # first clear those positions in N\n",
    "    p = j - i + 1\n",
    "    mask = (1 << p) - 1\n",
    "    mask = ~mask\n",
    "    N = N & mask\n",
    "    \n",
    "    # then insert M into N at the position i to the left\n",
    "    inserting = M << i\n",
    "    # print(bin(inserting), bin(N))\n",
    "    ret = N | inserting\n",
    "    return bin(ret)\n",
    "print(insertBits(0b10011, 0b10000000000, 6, 2))"
   ]
  },
  {
   "cell_type": "markdown",
   "id": "336accf1",
   "metadata": {},
   "source": [
    "## Binary to string"
   ]
  },
  {
   "cell_type": "code",
   "execution_count": 14,
   "id": "b42ed553",
   "metadata": {},
   "outputs": [
    {
     "name": "stdout",
     "output_type": "stream",
     "text": [
      "0.5\n",
      "0.25\n",
      "0.125\n",
      "0.0625\n"
     ]
    },
    {
     "data": {
      "text/plain": [
       "'0b101'"
      ]
     },
     "execution_count": 14,
     "metadata": {},
     "output_type": "execute_result"
    }
   ],
   "source": [
    "# input is a real number in (0,1) as a double. output is binary representation.\n",
    "def binToStr(x):\n",
    "    # basically go through the binary fractions and subtract it from the original number each time, if we get to zero we are done.\n",
    "    # so like 0.5, 0.25, 0.125, 0.0625, ...\n",
    "    ret = \"\"\n",
    "    temp = x\n",
    "    for i in range(0, 32):\n",
    "        test = 1 / (2 << i)\n",
    "        print(test)\n",
    "        if temp == 0:\n",
    "            return bin(int(ret, 2))\n",
    "        elif temp < test:\n",
    "            ret += \"0\"\n",
    "        else:\n",
    "            temp = temp - test\n",
    "            ret += \"1\"\n",
    "    print(\"ERROR\")\n",
    "    return 0\n",
    "\n",
    "binToStr(0.625)"
   ]
  },
  {
   "cell_type": "markdown",
   "id": "f5315e43",
   "metadata": {},
   "source": [
    "# Flip bit to win"
   ]
  },
  {
   "cell_type": "markdown",
   "id": "5a8d0ae5",
   "metadata": {},
   "source": [
    "## "
   ]
  },
  {
   "cell_type": "code",
   "execution_count": 7,
   "id": "58635928",
   "metadata": {},
   "outputs": [
    {
     "name": "stdout",
     "output_type": "stream",
     "text": [
      "0\n",
      "1\n",
      "2\n",
      "3\n",
      "1\n"
     ]
    },
    {
     "data": {
      "text/plain": [
       "3"
      ]
     },
     "execution_count": 7,
     "metadata": {},
     "output_type": "execute_result"
    }
   ],
   "source": [
    "# can try insert at all 0 places, split by 0, sum the lens of elements and take maxd\n",
    "def flipForLongSeq(n):\n",
    "    bestStreak = 0\n",
    "    subtractThisIfHitZero = 0\n",
    "    mask = 1\n",
    "    currStreak = 0\n",
    "    while n > 0:\n",
    "        print(currStreak)\n",
    "        test = mask & n\n",
    "        if test:\n",
    "            currStreak += 1\n",
    "            if currStreak > bestStreak:\n",
    "                bestStreak = currStreak\n",
    "        else:\n",
    "            currStreak += 1\n",
    "            currStreak -= subtractThisIfHitZero\n",
    "            subtractThisIfHitZero = currStreak\n",
    "            if currStreak > bestStreak:\n",
    "                bestStreak = currStreak\n",
    "        n = n >> 1\n",
    "    return bestStreak\n",
    "flipForLongSeq(19)"
   ]
  },
  {
   "cell_type": "markdown",
   "id": "c51c6d4c",
   "metadata": {},
   "source": [
    "## Next with ones"
   ]
  },
  {
   "cell_type": "code",
   "execution_count": null,
   "id": "23a0dc29",
   "metadata": {},
   "outputs": [],
   "source": [
    "# wow i lost my work\n",
    "# but I guess I have a clean slate"
   ]
  }
 ],
 "metadata": {
  "kernelspec": {
   "display_name": "base",
   "language": "python",
   "name": "python3"
  },
  "language_info": {
   "codemirror_mode": {
    "name": "ipython",
    "version": 3
   },
   "file_extension": ".py",
   "mimetype": "text/x-python",
   "name": "python",
   "nbconvert_exporter": "python",
   "pygments_lexer": "ipython3",
   "version": "3.12.2"
  }
 },
 "nbformat": 4,
 "nbformat_minor": 5
}
