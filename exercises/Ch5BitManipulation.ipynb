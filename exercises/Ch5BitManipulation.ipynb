{
 "cells": [
  {
   "cell_type": "markdown",
   "id": "9e06544e",
   "metadata": {},
   "source": [
    "# Ch. 5 Bit manipulation"
   ]
  },
  {
   "cell_type": "markdown",
   "id": "7f424d1d",
   "metadata": {},
   "source": [
    "## Insertion"
   ]
  },
  {
   "cell_type": "code",
   "execution_count": 13,
   "id": "ce3e3ece",
   "metadata": {},
   "outputs": [
    {
     "name": "stdout",
     "output_type": "stream",
     "text": [
      "0b10001001100\n"
     ]
    }
   ],
   "source": [
    "# given two 32 bit nums M and N, insert M into N at pos j and i\n",
    "def insertBits(M,N,j,i):\n",
    "    # first clear those positions in N\n",
    "    p = j - i + 1\n",
    "    mask = (1 << p) - 1\n",
    "    mask = ~mask\n",
    "    N = N & mask\n",
    "    \n",
    "    # then insert M into N at the position i to the left\n",
    "    inserting = M << i\n",
    "    # print(bin(inserting), bin(N))\n",
    "    ret = N | inserting\n",
    "    return bin(ret)\n",
    "print(insertBits(0b10011, 0b10000000000, 6, 2))"
   ]
  },
  {
   "cell_type": "markdown",
   "id": "336accf1",
   "metadata": {},
   "source": [
    "## Binary to string"
   ]
  },
  {
   "cell_type": "code",
   "execution_count": null,
   "id": "b42ed553",
   "metadata": {},
   "outputs": [],
   "source": [
    "# input is a real number in (0,1) as a double. output is binary representation.\n",
    "def binToStr(x):\n",
    "    # hmmm"
   ]
  },
  {
   "cell_type": "markdown",
   "id": "5a8d0ae5",
   "metadata": {},
   "source": [
    "## "
   ]
  }
 ],
 "metadata": {
  "kernelspec": {
   "display_name": "base",
   "language": "python",
   "name": "python3"
  },
  "language_info": {
   "codemirror_mode": {
    "name": "ipython",
    "version": 3
   },
   "file_extension": ".py",
   "mimetype": "text/x-python",
   "name": "python",
   "nbconvert_exporter": "python",
   "pygments_lexer": "ipython3",
   "version": "3.12.2"
  }
 },
 "nbformat": 4,
 "nbformat_minor": 5
}
