{
 "cells": [
  {
   "cell_type": "markdown",
   "id": "9e06544e",
   "metadata": {},
   "source": [
    "# Ch. 5 Bit manipulation"
   ]
  },
  {
   "cell_type": "markdown",
   "id": "336accf1",
   "metadata": {},
   "source": [
    "## Binary to string"
   ]
  },
  {
   "cell_type": "code",
   "execution_count": null,
   "id": "b42ed553",
   "metadata": {
    "vscode": {
     "languageId": "plaintext"
    }
   },
   "outputs": [],
   "source": [
    "# input is a real number in (0,1) as a double. output is binary representation.\n",
    "def binToStr(x):\n",
    "    # hmmm"
   ]
  },
  {
   "cell_type": "markdown",
   "id": "5a8d0ae5",
   "metadata": {},
   "source": [
    "## "
   ]
  }
 ],
 "metadata": {
  "language_info": {
   "name": "python"
  }
 },
 "nbformat": 4,
 "nbformat_minor": 5
}
