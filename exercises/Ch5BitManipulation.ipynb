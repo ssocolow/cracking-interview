{
 "cells": [
  {
   "cell_type": "markdown",
   "id": "9e06544e",
   "metadata": {},
   "source": [
    "# Ch. 5 Bit manipulation"
   ]
  },
  {
   "cell_type": "markdown",
   "id": "7f424d1d",
   "metadata": {},
   "source": [
    "## Insertion"
   ]
  },
  {
   "cell_type": "code",
   "execution_count": 2,
   "id": "ce3e3ece",
   "metadata": {},
   "outputs": [
    {
     "name": "stdout",
     "output_type": "stream",
     "text": [
      "0b10001001100\n"
     ]
    }
   ],
   "source": [
    "# given two 32 bit nums M and N, insert M into N at pos j and i\n",
    "def insertBits(M,N,j,i):\n",
    "    # first clear those positions in N\n",
    "    p = j - i + 1\n",
    "    mask = (1 << p) - 1\n",
    "    mask = ~mask\n",
    "    N = N & mask\n",
    "    \n",
    "    # then insert M into N at the position i to the left\n",
    "    inserting = M << i\n",
    "    # print(bin(inserting), bin(N))\n",
    "    ret = N | inserting\n",
    "    return bin(ret)\n",
    "print(insertBits(0b10011, 0b10000000000, 6, 2))"
   ]
  },
  {
   "cell_type": "markdown",
   "id": "336accf1",
   "metadata": {},
   "source": [
    "## Binary to string"
   ]
  },
  {
   "cell_type": "code",
   "execution_count": 14,
   "id": "b42ed553",
   "metadata": {},
   "outputs": [
    {
     "name": "stdout",
     "output_type": "stream",
     "text": [
      "0.5\n",
      "0.25\n",
      "0.125\n",
      "0.0625\n"
     ]
    },
    {
     "data": {
      "text/plain": [
       "'0b101'"
      ]
     },
     "execution_count": 14,
     "metadata": {},
     "output_type": "execute_result"
    }
   ],
   "source": [
    "# input is a real number in (0,1) as a double. output is binary representation.\n",
    "def binToStr(x):\n",
    "    # basically go through the binary fractions and subtract it from the original number each time, if we get to zero we are done.\n",
    "    # so like 0.5, 0.25, 0.125, 0.0625, ...\n",
    "    ret = \"\"\n",
    "    temp = x\n",
    "    for i in range(0, 32):\n",
    "        test = 1 / (2 << i)\n",
    "        print(test)\n",
    "        if temp == 0:\n",
    "            return bin(int(ret, 2))\n",
    "        elif temp < test:\n",
    "            ret += \"0\"\n",
    "        else:\n",
    "            temp = temp - test\n",
    "            ret += \"1\"\n",
    "    print(\"ERROR\")\n",
    "    return 0\n",
    "\n",
    "binToStr(0.625)"
   ]
  },
  {
   "cell_type": "markdown",
   "id": "f5315e43",
   "metadata": {},
   "source": [
    "# Flip bit to win"
   ]
  },
  {
   "cell_type": "markdown",
   "id": "5a8d0ae5",
   "metadata": {},
   "source": [
    "## "
   ]
  },
  {
   "cell_type": "code",
   "execution_count": 7,
   "id": "58635928",
   "metadata": {},
   "outputs": [
    {
     "name": "stdout",
     "output_type": "stream",
     "text": [
      "0\n",
      "1\n",
      "2\n",
      "3\n",
      "1\n"
     ]
    },
    {
     "data": {
      "text/plain": [
       "3"
      ]
     },
     "execution_count": 7,
     "metadata": {},
     "output_type": "execute_result"
    }
   ],
   "source": [
    "# can try insert at all 0 places, split by 0, sum the lens of elements and take maxd\n",
    "def flipForLongSeq(n):\n",
    "    bestStreak = 0\n",
    "    subtractThisIfHitZero = 0\n",
    "    mask = 1\n",
    "    currStreak = 0\n",
    "    while n > 0:\n",
    "        print(currStreak)\n",
    "        test = mask & n\n",
    "        if test:\n",
    "            currStreak += 1\n",
    "            if currStreak > bestStreak:\n",
    "                bestStreak = currStreak\n",
    "        else:\n",
    "            currStreak += 1\n",
    "            currStreak -= subtractThisIfHitZero\n",
    "            subtractThisIfHitZero = currStreak\n",
    "            if currStreak > bestStreak:\n",
    "                bestStreak = currStreak\n",
    "        n = n >> 1\n",
    "    return bestStreak\n",
    "flipForLongSeq(19)"
   ]
  },
  {
   "cell_type": "markdown",
   "id": "c51c6d4c",
   "metadata": {},
   "source": [
    "## Next with ones"
   ]
  },
  {
   "cell_type": "code",
   "execution_count": 21,
   "id": "23a0dc29",
   "metadata": {},
   "outputs": [
    {
     "name": "stdout",
     "output_type": "stream",
     "text": [
      "16 2\n"
     ]
    },
    {
     "data": {
      "text/plain": [
       "(10, 17)"
      ]
     },
     "execution_count": 21,
     "metadata": {},
     "output_type": "execute_result"
    }
   ],
   "source": [
    "# given positive integer n, return the next smallest and next largest integer with the same amount of 1s in its binary representation\n",
    "def nextNums(n):\n",
    "    nextSmallest = n\n",
    "    mask = 1\n",
    "    c = 0\n",
    "    c1s = 0\n",
    "    inTrailing = True\n",
    "    while mask < n:\n",
    "        # there is a 1 at this position\n",
    "        if mask & n:\n",
    "            c1s += 1\n",
    "            if inTrailing:\n",
    "                mask = mask << 1\n",
    "            else:\n",
    "                # zero out everything including and below this bit\n",
    "                mask = ~((mask << 1) - 1)\n",
    "                nextSmallest = nextSmallest & mask\n",
    "\n",
    "                # put correct number of 1s in the highest spots possible below the bit we changed to zero\n",
    "                ones = (1 << c1s) - 1\n",
    "                inPosition = ones << (c - c1s)\n",
    "                nextSmallest = nextSmallest | inPosition\n",
    "                break\n",
    "        # there is a zero here\n",
    "        else:\n",
    "            inTrailing = False\n",
    "            mask = mask << 1\n",
    "        c += 1\n",
    "\n",
    "    temp = n\n",
    "    # count everything before the first non-trailing zero\n",
    "    c0s = 0\n",
    "    c1s = 0\n",
    "\n",
    "    while temp & 1 == 0 and temp != 0:\n",
    "        c0s += 1\n",
    "        temp >>= 1\n",
    "\n",
    "    while temp & 1 == 1:\n",
    "        c1s += 1\n",
    "        temp >>= 1\n",
    "\n",
    "    p = c0s + c1s\n",
    "\n",
    "    # flip this bit to be one\n",
    "    nextLargest = n | (1 << p)\n",
    "\n",
    "    # clear everything below p\n",
    "    nextLargest = nextLargest & ~((1 << p) - 1)\n",
    "    print(nextLargest, c1s)\n",
    "    # add back c1s - 1 ones to the end\n",
    "    nextLargest = nextLargest | (1 << c1s - 1) - 1\n",
    "    return nextSmallest, nextLargest\n",
    "\n",
    "nextNums(12)"
   ]
  },
  {
   "cell_type": "markdown",
   "id": "29de943e",
   "metadata": {},
   "source": [
    "## Debugger"
   ]
  },
  {
   "cell_type": "code",
   "execution_count": 2,
   "id": "05932a56",
   "metadata": {},
   "outputs": [
    {
     "name": "stdout",
     "output_type": "stream",
     "text": [
      "False\n",
      "True\n"
     ]
    }
   ],
   "source": [
    "# this code returns true if n is a power of two\n",
    "def isPowOfTwo(n):\n",
    "    return (n & (n-1) == 0)\n",
    "\n",
    "print(isPowOfTwo(6))\n",
    "print(isPowOfTwo(8))"
   ]
  },
  {
   "cell_type": "markdown",
   "id": "9a042a83",
   "metadata": {},
   "source": [
    "## Conversion"
   ]
  },
  {
   "cell_type": "code",
   "execution_count": 4,
   "id": "a4128899",
   "metadata": {},
   "outputs": [
    {
     "data": {
      "text/plain": [
       "2"
      ]
     },
     "execution_count": 4,
     "metadata": {},
     "output_type": "execute_result"
    }
   ],
   "source": [
    "# get the number of bits we need to flip from A to get to B\n",
    "def conversion(A, B):\n",
    "    mask = 1\n",
    "    count = 0\n",
    "    bitInA = 0\n",
    "    bitInB = 0\n",
    "\n",
    "    while mask < max(A,B):\n",
    "        bitInA = mask & A\n",
    "        bitInB = mask & B\n",
    "\n",
    "        if bitInA ^ bitInB:\n",
    "            count += 1\n",
    "        mask = mask << 1\n",
    "    return count\n",
    "\n",
    "conversion(29,15)"
   ]
  },
  {
   "cell_type": "markdown",
   "id": "d2d3eec7",
   "metadata": {},
   "source": [
    "## Pairwise swap"
   ]
  },
  {
   "cell_type": "code",
   "execution_count": 5,
   "id": "e5e2e718",
   "metadata": {},
   "outputs": [
    {
     "data": {
      "text/plain": [
       "'0b111010'"
      ]
     },
     "execution_count": 5,
     "metadata": {},
     "output_type": "execute_result"
    }
   ],
   "source": [
    "def swapBits(n):\n",
    "    getLmask = int('0b10101010', base=0)\n",
    "    getRmask = int('0b01010101', base=0)\n",
    "\n",
    "    leftBits = n & getLmask\n",
    "    rightBits = n & getRmask\n",
    "\n",
    "    ret = (leftBits >> 1) ^ (rightBits << 1)\n",
    "    return bin(ret)\n",
    "swapBits(int('0b00110101', base=0))"
   ]
  },
  {
   "cell_type": "markdown",
   "id": "50fd55f0",
   "metadata": {},
   "source": [
    "## Draw Line"
   ]
  },
  {
   "cell_type": "code",
   "execution_count": 16,
   "id": "8396456f",
   "metadata": {},
   "outputs": [
    {
     "name": "stdout",
     "output_type": "stream",
     "text": [
      "['0b0', '0b1', '0b111111', '0b1111000']\n"
     ]
    }
   ],
   "source": [
    "# bytes representing a monochrome screen\n",
    "def drawLine(screen, w, x1, x2, y):\n",
    "    startByte = ((y * w) + x1) // 8\n",
    "    startBit = x1 % 8\n",
    "    bitsToSetToOne = x2 - x1\n",
    "    firstByte = screen[startByte]\n",
    "    mask = 1 << 7 - startBit\n",
    "    for _ in range(bitsToSetToOne):\n",
    "        screen[startByte] |= mask\n",
    "        if mask == 1:\n",
    "            mask = 1 << 7\n",
    "            startByte += 1\n",
    "        mask >>= 1\n",
    "    print([bin(i) for i in screen])\n",
    "\n",
    "\n",
    "\n",
    "drawLine([0,1,0,0],16,2,12,1)"
   ]
  },
  {
   "cell_type": "code",
   "execution_count": null,
   "id": "b1e933b7",
   "metadata": {},
   "outputs": [],
   "source": []
  }
 ],
 "metadata": {
  "kernelspec": {
   "display_name": "base",
   "language": "python",
   "name": "python3"
  },
  "language_info": {
   "codemirror_mode": {
    "name": "ipython",
    "version": 3
   },
   "file_extension": ".py",
   "mimetype": "text/x-python",
   "name": "python",
   "nbconvert_exporter": "python",
   "pygments_lexer": "ipython3",
   "version": "3.12.2"
  }
 },
 "nbformat": 4,
 "nbformat_minor": 5
}
