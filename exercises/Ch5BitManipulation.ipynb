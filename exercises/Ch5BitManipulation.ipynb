{
 "cells": [
  {
   "cell_type": "markdown",
   "id": "9e06544e",
   "metadata": {},
   "source": [
    "# Ch. 5 Bit manipulation"
   ]
  },
  {
   "cell_type": "markdown",
   "id": "5a8d0ae5",
   "metadata": {},
   "source": [
    "## "
   ]
  }
 ],
 "metadata": {
  "language_info": {
   "name": "python"
  }
 },
 "nbformat": 4,
 "nbformat_minor": 5
}
