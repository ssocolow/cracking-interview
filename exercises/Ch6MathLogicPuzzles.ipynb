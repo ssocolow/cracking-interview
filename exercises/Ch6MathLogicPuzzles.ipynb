{
 "cells": [
  {
   "cell_type": "markdown",
   "id": "9e06544e",
   "metadata": {},
   "source": [
    "# Ch. 6 Math and Logic Puzzles"
   ]
  },
  {
   "cell_type": "code",
   "execution_count": null,
   "id": "b1e933b7",
   "metadata": {},
   "outputs": [],
   "source": [
    "# done in anki\n",
    "# probability review",
    " domino problem"
   ]
  },
  {
   "cell_type": "code",
   "execution_count": null,
   "id": "7d0f178f",
   "metadata": {},
   "outputs": [],
   "source": [
    "# 3 ants start on the 3 sides of a triangle, each walking in a random direction (uniform). what is the probability of any collision? well unless all the ants choose to go in the same direction, there will be a collision. so P(collision) = 1 - P(no collosion)\n",
    "# P(no collision) = P(they all go left) + P(they all go right) = (1/2)^3 + (1/2)^3 = 1/4. so P(collision) = 3/4. For an n sided polygon, this becomes:\n",
    "# P(they all go left) + P(they all go right)= (1/2)^n + (1/2)^n = (1/2)^(n-1). so P(collision) = 1 - (1/2)^(n-1)."
   ]
  }
 ],
 "metadata": {
  "kernelspec": {
   "display_name": "base",
   "language": "python",
   "name": "python3"
  },
  "language_info": {
   "codemirror_mode": {
    "name": "ipython",
    "version": 3
   },
   "file_extension": ".py",
   "mimetype": "text/x-python",
   "name": "python",
   "nbconvert_exporter": "python",
   "pygments_lexer": "ipython3",
   "version": "3.12.2"
  }
 },
 "nbformat": 4,
 "nbformat_minor": 5
}
