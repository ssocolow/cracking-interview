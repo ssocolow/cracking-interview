{
 "cells": [
  {
   "cell_type": "markdown",
   "metadata": {},
   "source": [
    "# Stacks and Queues"
   ]
  },
  {
   "cell_type": "markdown",
   "metadata": {},
   "source": [
    "## One array 3 stacks"
   ]
  },
  {
   "cell_type": "code",
   "execution_count": 6,
   "metadata": {},
   "outputs": [],
   "source": [
    "# describe how 1 array can represent 3 stacks\n",
    "# my approach: using an offset so each 3rd element is part of the same stack, for example in [1,2,3,4,5,6], 1 and 4 are in stack 1, 2 and 5 are in stack 2, ...\n",
    "# this isn't so great bc one stack could fill up and the others would be empty. also the book solution would be 1 and 2 are in stack 1, 3 and 4 in stack 2, ...\n",
    "# flexible solution is to keep metadata about stacks and be able to wrap them around"
   ]
  },
  {
   "cell_type": "markdown",
   "metadata": {},
   "source": [
    "## Stack that can return min"
   ]
  },
  {
   "cell_type": "code",
   "execution_count": 7,
   "metadata": {},
   "outputs": [
    {
     "name": "stdout",
     "output_type": "stream",
     "text": [
      "0\n",
      "1\n"
     ]
    }
   ],
   "source": [
    "class StackMin:\n",
    "    def __init__(self):\n",
    "        self.stack = []\n",
    "        self.mins = []\n",
    "\n",
    "    def add(self, x):\n",
    "        self.stack.append(x)\n",
    "        if len(self.mins) == 0 or x <= self.mins[-1]:\n",
    "            self.mins.append(x)\n",
    "    \n",
    "    def pop(self):\n",
    "        ret = self.stack.pop()\n",
    "        if ret == self.mins[-1]:\n",
    "            self.mins.pop()\n",
    "        return ret\n",
    "    \n",
    "    def min(self):\n",
    "        return self.mins[-1]\n",
    "\n",
    "stack = StackMin()\n",
    "stack.add(2)\n",
    "stack.add(1)\n",
    "stack.add(7)\n",
    "stack.add(8)\n",
    "stack.add(0)\n",
    "print(stack.min())\n",
    "stack.pop()\n",
    "print(stack.min())"
   ]
  },
  {
   "cell_type": "markdown",
   "metadata": {},
   "source": [
    "## Implement a queue with two stacks"
   ]
  },
  {
   "cell_type": "code",
   "execution_count": 8,
   "metadata": {},
   "outputs": [
    {
     "name": "stdout",
     "output_type": "stream",
     "text": [
      "5\n",
      "6\n",
      "16\n"
     ]
    }
   ],
   "source": [
    "class Queue:\n",
    "    def __init__(self):\n",
    "        self.stack1 = []\n",
    "        self.stack2 = []\n",
    "\n",
    "    def add(self, val):\n",
    "        self.stack1.append(val)\n",
    "    \n",
    "    def pop(self):\n",
    "        while self.stack1:\n",
    "            self.stack2.append(self.stack1.pop())\n",
    "        ret = self.stack2.pop()\n",
    "        while self.stack2:\n",
    "            self.stack1.append(self.stack2.pop())\n",
    "        return ret\n",
    "\n",
    "q = Queue()\n",
    "q.add(5)\n",
    "q.add(6)\n",
    "q.add(16)\n",
    "q.add(17)\n",
    "print(q.pop())\n",
    "print(q.pop())\n",
    "q.add(77)\n",
    "print(q.pop())"
   ]
  },
  {
   "cell_type": "markdown",
   "metadata": {},
   "source": [
    "## Set of stacks"
   ]
  },
  {
   "cell_type": "code",
   "execution_count": 9,
   "metadata": {},
   "outputs": [
    {
     "name": "stdout",
     "output_type": "stream",
     "text": [
      "[[1, 2, 3], [4, 5, 6], []]\n",
      "[[1, 2, 3], [4, 5]]\n",
      "[[1, 2], [4, 5]]\n"
     ]
    }
   ],
   "source": [
    "class SetStacks:\n",
    "    def __init__(self, cap):\n",
    "        self.stacks = []\n",
    "        self.cap = cap\n",
    "\n",
    "    def add(self, x):\n",
    "        if len(self.stacks) < 1:\n",
    "            self.stacks.append([x])\n",
    "        else:\n",
    "            if len(self.stacks[-1]) >= self.cap:\n",
    "                self.stacks.append([x])\n",
    "            else:\n",
    "                self.stacks[-1].append(x)\n",
    "    \n",
    "    def pop(self):\n",
    "        if len(self.stacks[-1]) > 0:\n",
    "            ret = self.stacks[-1].pop()\n",
    "            return ret\n",
    "        else:\n",
    "            # last stack is empty\n",
    "            del self.stacks[-1]\n",
    "            return self.pop()\n",
    "        \n",
    "    def popAt(self, idx):\n",
    "        # pop the stack at idx\n",
    "        return self.stacks[idx].pop()\n",
    "\n",
    "ss = SetStacks(3)\n",
    "ss.add(1)\n",
    "ss.add(2)\n",
    "ss.add(3)\n",
    "ss.add(4)\n",
    "ss.add(5)\n",
    "ss.add(6)\n",
    "ss.add(7)\n",
    "ss.pop()\n",
    "print(ss.stacks)\n",
    "ss.pop()\n",
    "print(ss.stacks)\n",
    "ss.popAt(0)\n",
    "print(ss.stacks)"
   ]
  },
  {
   "cell_type": "markdown",
   "metadata": {},
   "source": [
    "## Sort Stack"
   ]
  },
  {
   "cell_type": "code",
   "execution_count": 10,
   "metadata": {},
   "outputs": [
    {
     "data": {
      "text/plain": [
       "[3, 5, 7, 8]"
      ]
     },
     "execution_count": 10,
     "metadata": {},
     "output_type": "execute_result"
    }
   ],
   "source": [
    "# sort a stack so smaller elements on bottom - only can use additional stack\n",
    "# poa: figure out the smallest by moving everything to the other stack, put smallest on bottom of first stack. Then don't add the smallest back and repeat\n",
    "# but don't pop the smallest from the bottom of the first stack and build up\n",
    "def sortStack(stack):\n",
    "    s2 = []\n",
    "    count = len(stack)\n",
    "\n",
    "    while count > 1:\n",
    "        # print(stack)\n",
    "        smallest = float('inf')\n",
    "        for i in range(count):\n",
    "            n = stack.pop()\n",
    "            if n < smallest:\n",
    "                smallest = n\n",
    "            # print(smallest)\n",
    "            s2.append(n)\n",
    "        \n",
    "        stack.append(smallest)\n",
    "        found = False\n",
    "\n",
    "        for i in range(count):\n",
    "            n = s2.pop()\n",
    "            if n == smallest and not found:\n",
    "                found = True\n",
    "            else:\n",
    "                stack.append(n)\n",
    "        \n",
    "        count -= 1\n",
    "t = [8,3,5,7]\n",
    "sortStack(t)\n",
    "t\n",
    "                    "
   ]
  },
  {
   "cell_type": "markdown",
   "metadata": {},
   "source": [
    "## Animal shelter"
   ]
  },
  {
   "cell_type": "code",
   "execution_count": 22,
   "metadata": {},
   "outputs": [
    {
     "name": "stdout",
     "output_type": "stream",
     "text": [
      "None\n",
      "doggo, 0\n",
      "meow, 4\n",
      "bark, 1\n"
     ]
    }
   ],
   "source": [
    "class LinkedList:\n",
    "    def __init__(self, val, age):\n",
    "        self.val = val\n",
    "        self.time = age\n",
    "        self.next = None\n",
    "\n",
    "    def __str__(self):\n",
    "        return f\"{self.val}, {self.time}\"\n",
    "\n",
    "class AnimalShelter:\n",
    "    def __init__(self):\n",
    "        self.dogs = LinkedList(-1,None)\n",
    "        self.cats = LinkedList(-1, None)\n",
    "        self.time = 0\n",
    "    \n",
    "    def enqueue(self, dog, name):\n",
    "        if dog:\n",
    "            d = LinkedList(name, self.time)\n",
    "            d.next = self.dogs\n",
    "            self.dogs = d\n",
    "        else:\n",
    "            d = LinkedList(name, self.time)\n",
    "            d.next = self.cats\n",
    "            self.cats = d\n",
    "        self.time += 1\n",
    "    \n",
    "    def dequeueCat(self):\n",
    "        p1 = self.cats\n",
    "        p2 = self.cats.next\n",
    "        while p2:\n",
    "            if p2.val == -1:\n",
    "                tmp = self.cats\n",
    "                self.cats = p2\n",
    "                return tmp\n",
    "            elif p2.next.val == -1:\n",
    "                p1.next = p2.next\n",
    "                return p2\n",
    "            p1 = p2\n",
    "            p2 = p2.next\n",
    "        return None\n",
    "        \n",
    "    def dequeueDog(self):\n",
    "        p1 = self.dogs\n",
    "        p2 = self.dogs.next\n",
    "        while p2:\n",
    "            if p2.val == -1:\n",
    "                tmp = self.dogs\n",
    "                self.dogs = p2\n",
    "                return tmp\n",
    "            elif p2.next.val == -1:\n",
    "                p1.next = p2.next\n",
    "                return p2\n",
    "            p1 = p2\n",
    "            p2 = p2.next\n",
    "        return None\n",
    "\n",
    "    # get the oldest\n",
    "    def dequeueAny(self):\n",
    "        # get oldest dog\n",
    "        p1 = self.dogs\n",
    "        p2 = self.dogs.next\n",
    "        oldestDog = None\n",
    "        while p2:\n",
    "            if p2.val == -1:\n",
    "                oldestDog = p1\n",
    "                break\n",
    "            elif p2.next.val == -1:\n",
    "                oldestDog = p2\n",
    "                break\n",
    "            p1 = p2\n",
    "            p2 = p2.next\n",
    "        \n",
    "        # oldest cat\n",
    "        c1 = self.cats\n",
    "        c2 = self.cats.next\n",
    "        oldestCat = None\n",
    "        while c2:\n",
    "            if c2.val == -1:\n",
    "                oldestCat = c1\n",
    "                break\n",
    "            elif c2.next.val == -1:\n",
    "                oldestCat = c2\n",
    "                break\n",
    "            c1 = c2\n",
    "            c2 = c2.next\n",
    "        \n",
    "        if oldestCat and oldestDog:\n",
    "            if oldestCat.time < oldestDog.time:\n",
    "                c1.next = c2.next\n",
    "                return oldestCat\n",
    "            else:\n",
    "                p1.next = p2.next\n",
    "                return oldestDog\n",
    "        elif oldestCat:\n",
    "            c1.next = c2.next\n",
    "            return oldestCat\n",
    "        elif oldestDog:\n",
    "            p1.next = p2.next\n",
    "            return oldestDog\n",
    "        else:\n",
    "            return None\n",
    "AS = AnimalShelter()\n",
    "print(AS.dequeueAny())\n",
    "AS.enqueue(True, \"doggo\") \n",
    "AS.enqueue(True, \"bark\") \n",
    "AS.enqueue(True, \"ruff\") \n",
    "AS.enqueue(True, \"hops\") \n",
    "\n",
    "AS.enqueue(False, \"meow\")\n",
    "AS.enqueue(False, \"kitty\")\n",
    "AS.enqueue(False, \"walter\")\n",
    "\n",
    "print(AS.dequeueAny())\n",
    "print(AS.dequeueCat())\n",
    "# print(AS.dogs)\n",
    "# print(AS.dogs.next)\n",
    "# print(AS.dogs.next.next)\n",
    "# print(AS.dogs.next.next.next)\n",
    "print(AS.dequeueDog())\n",
    "\n",
    "    "
   ]
  }
 ],
 "metadata": {
  "kernelspec": {
   "display_name": "base",
   "language": "python",
   "name": "python3"
  },
  "language_info": {
   "codemirror_mode": {
    "name": "ipython",
    "version": 3
   },
   "file_extension": ".py",
   "mimetype": "text/x-python",
   "name": "python",
   "nbconvert_exporter": "python",
   "pygments_lexer": "ipython3",
   "version": "3.12.2"
  }
 },
 "nbformat": 4,
 "nbformat_minor": 2
}
