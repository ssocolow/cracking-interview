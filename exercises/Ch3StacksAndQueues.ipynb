{
 "cells": [
  {
   "cell_type": "markdown",
   "metadata": {},
   "source": [
    "# Stacks and Queues"
   ]
  },
  {
   "cell_type": "markdown",
   "metadata": {},
   "source": [
    "## One array 3 stacks"
   ]
  },
  {
   "cell_type": "code",
   "execution_count": null,
   "metadata": {
    "vscode": {
     "languageId": "plaintext"
    }
   },
   "outputs": [],
   "source": [
    "# describe how 1 array can represent 3 stacks\n",
    "# my approach: using an offset so each 3rd element is part of the same stack, for example in [1,2,3,4,5,6], 1 and 4 are in stack 1, 2 and 5 are in stack 2, ...\n",
    "# this isn't so great bc one stack could fill up and the others would be empty. also the book solution would be 1 and 2 are in stack 1, 3 and 4 in stack 2, ...\n",
    "# flexible solution is to keep metadata about stacks and be able to wrap them around"
   ]
  }
 ],
 "metadata": {
  "language_info": {
   "name": "python"
  }
 },
 "nbformat": 4,
 "nbformat_minor": 2
}
