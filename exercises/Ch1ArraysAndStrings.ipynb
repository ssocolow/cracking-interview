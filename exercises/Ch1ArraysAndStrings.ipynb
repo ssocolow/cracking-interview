{
 "cells": [
  {
   "cell_type": "markdown",
   "metadata": {},
   "source": [
    "# Chapter 1: Arrays and Strings"
   ]
  },
  {
   "cell_type": "markdown",
   "metadata": {},
   "source": [
    "## Is Unique - implement algo to determine if a string has all unique characters. What if you can't use additional data structures?"
   ]
  },
  {
   "cell_type": "code",
   "execution_count": 6,
   "metadata": {},
   "outputs": [
    {
     "name": "stdout",
     "output_type": "stream",
     "text": [
      "regular: False\n",
      "no extra space: False\n"
     ]
    }
   ],
   "source": [
    "# hold char counts in hashmap and when already seen before return false\n",
    "s = \"simonjumped\"\n",
    "\n",
    "def isUnique(s):\n",
    "    d = {}\n",
    "\n",
    "    for c in s:\n",
    "        if c in d:\n",
    "            return False\n",
    "        else:\n",
    "            d[c] = 1\n",
    "\n",
    "print(f'regular: {isUnique(s)}')\n",
    "\n",
    "def isUniqueNoExtraSpace(s):\n",
    "    for i in range(len(s)):\n",
    "        for j in range(i+1, len(s)):\n",
    "            if s[i] == s[j]:\n",
    "                return False\n",
    "    return True\n",
    "print(f'no extra space: {isUniqueNoExtraSpace(s)}')"
   ]
  },
  {
   "cell_type": "markdown",
   "metadata": {},
   "source": [
    "## Check permutation: given two strings, check whether one is a permutation of the other"
   ]
  },
  {
   "cell_type": "code",
   "execution_count": 11,
   "metadata": {},
   "outputs": [
    {
     "data": {
      "text/plain": [
       "True"
      ]
     },
     "execution_count": 11,
     "metadata": {},
     "output_type": "execute_result"
    }
   ],
   "source": [
    "strA, strB = \"simon\", \"nmosi\"\n",
    "\n",
    "def checkPermutation(s1, s2):\n",
    "    if len(s1) != len(s2):\n",
    "        return False\n",
    "    d = {}\n",
    "    for c in s1:\n",
    "        d[c] = d.get(c, 0) + 1\n",
    "    for c in s2:\n",
    "        if c not in d:\n",
    "            return False\n",
    "        d[c] = d[c] - 1\n",
    "        if d[c] < 0:\n",
    "            return False\n",
    "    return True\n",
    "checkPermutation(strA, strB)"
   ]
  },
  {
   "cell_type": "markdown",
   "metadata": {},
   "source": [
    "## URLify: Replace all spaces in a string with %20"
   ]
  },
  {
   "cell_type": "code",
   "execution_count": 14,
   "metadata": {},
   "outputs": [
    {
     "data": {
      "text/plain": [
       "'simon%20is%20here'"
      ]
     },
     "execution_count": 14,
     "metadata": {},
     "output_type": "execute_result"
    }
   ],
   "source": [
    "s = \"simon is here\"\n",
    "def urlify(s):\n",
    "    return s.replace(\" \", \"%20\")\n",
    "urlify(s)"
   ]
  },
  {
   "cell_type": "markdown",
   "metadata": {},
   "source": [
    "## Determine if a string is a permutation of a palindrome"
   ]
  },
  {
   "cell_type": "code",
   "execution_count": 18,
   "metadata": {},
   "outputs": [
    {
     "data": {
      "text/plain": [
       "True"
      ]
     },
     "execution_count": 18,
     "metadata": {},
     "output_type": "execute_result"
    }
   ],
   "source": [
    "s = \"aabcbbb\"\n",
    "def isPermPal(s):\n",
    "    # get char counts\n",
    "    counts = {}\n",
    "    for c in s:\n",
    "        counts[c] = counts.get(c, 0) + 1\n",
    "    # if there is more than one odd count, not palindrome permutation\n",
    "    foundMid = False\n",
    "    for count in counts.values():\n",
    "        if count % 2 == 1:\n",
    "            if foundMid:\n",
    "                return False\n",
    "            else:\n",
    "                foundMid = True\n",
    "    return True\n",
    "isPermPal(s)\n"
   ]
  },
  {
   "cell_type": "markdown",
   "metadata": {},
   "source": [
    "## Determine the kth smallest value in a binary search tree"
   ]
  },
  {
   "cell_type": "code",
   "execution_count": null,
   "metadata": {},
   "outputs": [],
   "source": [
    "class TreeNode:\n",
    "    def __init__(self, val):\n",
    "        self.left = None\n",
    "        self.right = None\n",
    "        self.val = val"
   ]
  },
  {
   "cell_type": "code",
   "execution_count": null,
   "metadata": {},
   "outputs": [],
   "source": [
    "root = TreeNode(5)\n",
    "l1 = TreeNode(2)\n",
    "r1 = TreeNode(17)\n",
    "l2 = TreeNode(1)\n",
    "rl = TreeNode(8)\n",
    "rr = TreeNode(19)\n",
    "rrr = TreeNode(4)\n",
    "root.left = l1\n",
    "root.right = r1\n",
    "l1.left = l2\n",
    "r1.left = rl\n",
    "r1.right = rr\n",
    "rr.right = rrr\n",
    "\n",
    "\"\"\"\n",
    "                5\n",
    "            2       17\n",
    "         1        8    19\n",
    "                          4\n",
    "pre-order: [5, 2, 1, 17, 8, 19, 4]\n",
    "in-order: [1, 2, 5, 8, 17, 19, 4]\n",
    "\"\"\""
   ]
  },
  {
   "cell_type": "code",
   "execution_count": null,
   "metadata": {},
   "outputs": [
    {
     "data": {
      "text/plain": [
       "2"
      ]
     },
     "execution_count": 4,
     "metadata": {},
     "output_type": "execute_result"
    }
   ],
   "source": [
    "def findKthSmallest(root, k):\n",
    "    # start from smallest\n",
    "    n = 0\n",
    "    stack = []\n",
    "    p = root\n",
    "    \n",
    "    while True:\n",
    "        # print(stack)\n",
    "        while p:\n",
    "            stack.append(p)\n",
    "            p = p.left\n",
    "        node = stack.pop()\n",
    "        n += 1\n",
    "        if n == k:\n",
    "            return node.val\n",
    "        p = node.right\n",
    "\n",
    "findKthSmallest(root, 2)"
   ]
  },
  {
   "cell_type": "markdown",
   "metadata": {},
   "source": [
    "## One Away: There are 3 types of edits that can be done to a string: insert a character, remove a character, or replace a character. Given two strings, write a function to check if they are one or zero edits away"
   ]
  },
  {
   "cell_type": "code",
   "execution_count": 6,
   "metadata": {},
   "outputs": [
    {
     "data": {
      "text/plain": [
       "True"
      ]
     },
     "execution_count": 6,
     "metadata": {},
     "output_type": "execute_result"
    }
   ],
   "source": [
    "# one away\n",
    "def one_away(s1, s2):\n",
    "    strikeAllowed = True\n",
    "    largest = len(s1) if len(s1) > len(s2) else len(s2)\n",
    "    \n",
    "    # check if they are the same\n",
    "    if s1 == s2:\n",
    "        return True\n",
    "    elif abs(len(s1) - len(s2)) > 1:\n",
    "        return False\n",
    "    \n",
    "    # we must be dealing with a replacement\n",
    "    elif len(s1) == len(s2):\n",
    "        for i in range(len(s1)):\n",
    "            if s1[i] != s2[i]:\n",
    "                if not strikeAllowed:\n",
    "                    return False\n",
    "                strikeAllowed = False\n",
    "        return True\n",
    "    # an addition or removal\n",
    "    else:\n",
    "        longer = s1 if len(s1) > len(s2) else s2\n",
    "        shorter = s1 if len(s1) < len(s2) else s2\n",
    "\n",
    "        # two pointer method\n",
    "        p1, p2 = 0, 0\n",
    "        while p1 < len(longer) and p2 < len(shorter):\n",
    "            if longer[p1] != shorter[p2]:\n",
    "                if strikeAllowed:\n",
    "                    strikeAllowed = False\n",
    "                    p1 += 1\n",
    "                else:\n",
    "                    return False\n",
    "            else:\n",
    "                p1 += 1\n",
    "                p2 += 1\n",
    "        return True\n",
    "        # go through until we hit something different then check if the larget str with that char removed is equal to the other string\n",
    "        # found = False\n",
    "        # for i in range(len(longer)):\n",
    "        #     if longer[0:i] + longer[i+1:] == shorter:\n",
    "        #         found = True\n",
    "        #         break\n",
    "        # return found\n",
    "    \n",
    "one_away('smart', 'slart')"
   ]
  },
  {
   "cell_type": "markdown",
   "metadata": {},
   "source": [
    "## String compression: aaaabbc -> a4b2c1 (only add nums if the total len of compressed string is smaller than OG)"
   ]
  },
  {
   "cell_type": "code",
   "execution_count": 13,
   "metadata": {},
   "outputs": [
    {
     "data": {
      "text/plain": [
       "'a4b2c1'"
      ]
     },
     "execution_count": 13,
     "metadata": {},
     "output_type": "execute_result"
    }
   ],
   "source": [
    "def compress_string(s):\n",
    "    if not s:\n",
    "        return \"\"\n",
    "    \n",
    "    compressed = []\n",
    "    count = 1\n",
    "    for i in range(1, len(s)):\n",
    "        if s[i] == s[i - 1]:\n",
    "            count += 1\n",
    "        else:\n",
    "            compressed.append(s[i - 1] + str(count))\n",
    "            count = 1\n",
    "    compressed.append(s[-1] + str(count))\n",
    "    result = ''.join(compressed)\n",
    "    \n",
    "    # newstr = \"\"\n",
    "    # currentLetter = s[0]\n",
    "    # count = 0\n",
    "    # for i in range(len(s)):\n",
    "    #     c = s[i]\n",
    "    #     if c == currentLetter:\n",
    "    #         count += 1\n",
    "    #     else:\n",
    "    #         newstr += currentLetter + f\"{count}\"\n",
    "    #         count = 1\n",
    "    #         currentLetter = c\n",
    "    #     if i == len(s) - 1:\n",
    "    #         newstr += currentLetter + f\"{count}\"\n",
    "    return result if len(result) < len(s) else s\n",
    "compress_string(\"aaaabbc\")"
   ]
  },
  {
   "cell_type": "markdown",
   "metadata": {},
   "source": [
    "## Rotating N by N matrix of numbers 90 degrees"
   ]
  },
  {
   "cell_type": "code",
   "execution_count": null,
   "metadata": {},
   "outputs": [
    {
     "data": {
      "text/plain": [
       "[[7, 4, 1], [8, 5, 2], [9, 6, 3]]"
      ]
     },
     "execution_count": 2,
     "metadata": {},
     "output_type": "execute_result"
    }
   ],
   "source": [
    "def rot(mat):\n",
    "    # N x N so the first row becomes the last col, second row is 2nd to last col\n",
    "    N = len(mat)\n",
    "    newmat = [[] for i in range(N)]\n",
    "    for i in range(N - 1, -1, -1):\n",
    "        for j in range(N):\n",
    "            newmat[j].append(mat[i][j])\n",
    "    return newmat\n",
    "\n",
    "def rot90inplace(mat):\n",
    "    # swaps that make the circle\n",
    "    \n",
    "\n",
    "ex1 = [[1,2,3],\n",
    "       [4,5,6],\n",
    "       [7,8,9]]\n",
    "rot(ex1)\n",
    "\n",
    "    "
   ]
  }
 ],
 "metadata": {
  "kernelspec": {
   "display_name": "base",
   "language": "python",
   "name": "python3"
  },
  "language_info": {
   "codemirror_mode": {
    "name": "ipython",
    "version": 3
   },
   "file_extension": ".py",
   "mimetype": "text/x-python",
   "name": "python",
   "nbconvert_exporter": "python",
   "pygments_lexer": "ipython3",
   "version": "3.12.2"
  }
 },
 "nbformat": 4,
 "nbformat_minor": 2
}
