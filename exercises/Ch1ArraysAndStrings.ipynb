{
 "cells": [
  {
   "cell_type": "markdown",
   "metadata": {},
   "source": [
    "# Chapter 1: Arrays and Strings"
   ]
  },
  {
   "cell_type": "markdown",
   "metadata": {},
   "source": [
    "## Is Unique - implement algo to determine if a string has all unique characters. What if you can't use additional data structures?"
   ]
  },
  {
   "cell_type": "code",
   "execution_count": 6,
   "metadata": {},
   "outputs": [
    {
     "name": "stdout",
     "output_type": "stream",
     "text": [
      "regular: False\n",
      "no extra space: False\n"
     ]
    }
   ],
   "source": [
    "# hold char counts in hashmap and when already seen before return false\n",
    "s = \"simonjumped\"\n",
    "\n",
    "def isUnique(s):\n",
    "    d = {}\n",
    "\n",
    "    for c in s:\n",
    "        if c in d:\n",
    "            return False\n",
    "        else:\n",
    "            d[c] = 1\n",
    "\n",
    "print(f'regular: {isUnique(s)}')\n",
    "\n",
    "def isUniqueNoExtraSpace(s):\n",
    "    for i in range(len(s)):\n",
    "        for j in range(i+1, len(s)):\n",
    "            if s[i] == s[j]:\n",
    "                return False\n",
    "    return True\n",
    "print(f'no extra space: {isUniqueNoExtraSpace(s)}')"
   ]
  },
  {
   "cell_type": "markdown",
   "metadata": {},
   "source": [
    "## Check permutation: given two strings, check whether one is a permutation of the other"
   ]
  },
  {
   "cell_type": "code",
   "execution_count": 11,
   "metadata": {},
   "outputs": [
    {
     "data": {
      "text/plain": [
       "True"
      ]
     },
     "execution_count": 11,
     "metadata": {},
     "output_type": "execute_result"
    }
   ],
   "source": [
    "strA, strB = \"simon\", \"nmosi\"\n",
    "\n",
    "def checkPermutation(s1, s2):\n",
    "    if len(s1) != len(s2):\n",
    "        return False\n",
    "    d = {}\n",
    "    for c in s1:\n",
    "        d[c] = d.get(c, 0) + 1\n",
    "    for c in s2:\n",
    "        if c not in d:\n",
    "            return False\n",
    "        d[c] = d[c] - 1\n",
    "        if d[c] < 0:\n",
    "            return False\n",
    "    return True\n",
    "checkPermutation(strA, strB)"
   ]
  },
  {
   "cell_type": "markdown",
   "metadata": {},
   "source": [
    "## URLify: Replace all spaces in a string with %20"
   ]
  },
  {
   "cell_type": "code",
   "execution_count": 14,
   "metadata": {},
   "outputs": [
    {
     "data": {
      "text/plain": [
       "'simon%20is%20here'"
      ]
     },
     "execution_count": 14,
     "metadata": {},
     "output_type": "execute_result"
    }
   ],
   "source": [
    "s = \"simon is here\"\n",
    "def urlify(s):\n",
    "    return s.replace(\" \", \"%20\")\n",
    "urlify(s)"
   ]
  },
  {
   "cell_type": "markdown",
   "metadata": {},
   "source": [
    "## Determine if a string is a permutation of a palindrome"
   ]
  },
  {
   "cell_type": "code",
   "execution_count": 18,
   "metadata": {},
   "outputs": [
    {
     "data": {
      "text/plain": [
       "True"
      ]
     },
     "execution_count": 18,
     "metadata": {},
     "output_type": "execute_result"
    }
   ],
   "source": [
    "s = \"aabcbbb\"\n",
    "def isPermPal(s):\n",
    "    # get char counts\n",
    "    counts = {}\n",
    "    for c in s:\n",
    "        counts[c] = counts.get(c, 0) + 1\n",
    "    # if there is more than one odd count, not palindrome permutation\n",
    "    foundMid = False\n",
    "    for count in counts.values():\n",
    "        if count % 2 == 1:\n",
    "            if foundMid:\n",
    "                return False\n",
    "            else:\n",
    "                foundMid = True\n",
    "    return True\n",
    "isPermPal(s)\n"
   ]
  },
  {
   "cell_type": "markdown",
   "metadata": {},
   "source": [
    "## Determine the kth smallest value in a binary search tree"
   ]
  },
  {
   "cell_type": "code",
   "execution_count": null,
   "metadata": {},
   "outputs": [],
   "source": [
    "class TreeNode:\n",
    "    def __init__(self, val):\n",
    "        self.left = None\n",
    "        self.right = None\n",
    "        self.val = val"
   ]
  },
  {
   "cell_type": "code",
   "execution_count": null,
   "metadata": {},
   "outputs": [],
   "source": [
    "root = TreeNode(5)\n",
    "l1 = TreeNode(2)\n",
    "r1 = TreeNode(17)\n",
    "l2 = TreeNode(1)\n",
    "rl = TreeNode(8)\n",
    "rr = TreeNode(19)\n",
    "rrr = TreeNode(4)\n",
    "root.left = l1\n",
    "root.right = r1\n",
    "l1.left = l2\n",
    "r1.left = rl\n",
    "r1.right = rr\n",
    "rr.right = rrr\n",
    "\n",
    "\"\"\"\n",
    "                5\n",
    "            2       17\n",
    "         1        8    19\n",
    "                          4\n",
    "pre-order: [5, 2, 1, 17, 8, 19, 4]\n",
    "in-order: [1, 2, 5, 8, 17, 19, 4]\n",
    "\"\"\""
   ]
  },
  {
   "cell_type": "code",
   "execution_count": null,
   "metadata": {},
   "outputs": [
    {
     "data": {
      "text/plain": [
       "2"
      ]
     },
     "execution_count": 4,
     "metadata": {},
     "output_type": "execute_result"
    }
   ],
   "source": [
    "def findKthSmallest(root, k):\n",
    "    # start from smallest\n",
    "    n = 0\n",
    "    stack = []\n",
    "    p = root\n",
    "    \n",
    "    while True:\n",
    "        # print(stack)\n",
    "        while p:\n",
    "            stack.append(p)\n",
    "            p = p.left\n",
    "        node = stack.pop()\n",
    "        n += 1\n",
    "        if n == k:\n",
    "            return node.val\n",
    "        p = node.right\n",
    "\n",
    "findKthSmallest(root, 2)"
   ]
  },
  {
   "cell_type": "code",
   "execution_count": null,
   "metadata": {},
   "outputs": [],
   "source": [
    "# reconstructing a binary tree from in order and pre order traversal\n",
    "def recurseBuildPreIn(preorder, inorder):\n",
    "    if preorder:\n",
    "        root = preorder.pop(0)\n",
    "\n",
    "        left = recurseBuildPreIn(preorder, inorder)\n",
    "        right = recurseBuildPreIn()\n",
    "    else:\n",
    "        return None\n",
    "    # a piece of paper and a pen is helpful\n",
    "    root = preorder[0]\n",
    "    # recurse so now build the left subtree\n",
    "    while preorder:\n",
    "        \n",
    "\n",
    "    "
   ]
  }
 ],
 "metadata": {
  "kernelspec": {
   "display_name": "base",
   "language": "python",
   "name": "python3"
  },
  "language_info": {
   "codemirror_mode": {
    "name": "ipython",
    "version": 3
   },
   "file_extension": ".py",
   "mimetype": "text/x-python",
   "name": "python",
   "nbconvert_exporter": "python",
   "pygments_lexer": "ipython3",
   "version": "3.12.2"
  }
 },
 "nbformat": 4,
 "nbformat_minor": 2
}
