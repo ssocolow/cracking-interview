{
 "cells": [
  {
   "cell_type": "markdown",
   "id": "f679a0de",
   "metadata": {},
   "source": [
    "# Leetcode 150"
   ]
  },
  {
   "cell_type": "markdown",
   "id": "30efdf55",
   "metadata": {},
   "source": [
    "## Merge two arrays"
   ]
  },
  {
   "cell_type": "code",
   "execution_count": 2,
   "id": "57190b63",
   "metadata": {},
   "outputs": [
    {
     "data": {
      "text/plain": [
       "[1, 2, 3, 6, 7, 7]"
      ]
     },
     "execution_count": 2,
     "metadata": {},
     "output_type": "execute_result"
    }
   ],
   "source": [
    "# merge two arrays\n",
    "\n",
    "a = [1,7,7,0,0,0]\n",
    "b = [2,3,6]\n",
    "\n",
    "def merge(a, b, enda):\n",
    "    al = len(a) - 1\n",
    "    bl = len(b) - 1\n",
    "    while al > 0:\n",
    "        if a[enda] > b[bl]:\n",
    "            a[al] = a[enda]\n",
    "            enda -= 1\n",
    "        else:\n",
    "            a[al] = b[bl]\n",
    "            bl -= 1\n",
    "        al -= 1\n",
    "    return a\n",
    "\n",
    "merge(a,b,2)\n"
   ]
  },
  {
   "cell_type": "markdown",
   "id": "a735be34",
   "metadata": {},
   "source": [
    "## 2 - Remove Element"
   ]
  },
  {
   "cell_type": "code",
   "execution_count": 2,
   "id": "33cdbb27",
   "metadata": {},
   "outputs": [
    {
     "data": {
      "text/plain": [
       "5"
      ]
     },
     "execution_count": 2,
     "metadata": {},
     "output_type": "execute_result"
    }
   ],
   "source": [
    "def removeElement(nums, val: int) -> int:\n",
    "    slow, fast = 0,0\n",
    "    if len(nums) == 0:\n",
    "        return 0\n",
    "    while fast < len(nums):\n",
    "        if nums[slow] == val:\n",
    "            while nums[fast] == val:\n",
    "                fast += 1\n",
    "                if fast == len(nums):\n",
    "                    return slow\n",
    "            nums[slow] = nums[fast]\n",
    "            nums[fast] = val\n",
    "        slow += 1\n",
    "        fast += 1\n",
    "    return slow\n",
    "\n",
    "removeElement([0,1,2,2,3,0,4,2], 2)"
   ]
  },
  {
   "cell_type": "markdown",
   "id": "36c6369f",
   "metadata": {},
   "source": [
    "## 3 - Remove Duplicates"
   ]
  },
  {
   "cell_type": "code",
   "execution_count": 1,
   "id": "adb69292",
   "metadata": {},
   "outputs": [
    {
     "data": {
      "text/plain": [
       "3"
      ]
     },
     "execution_count": 1,
     "metadata": {},
     "output_type": "execute_result"
    }
   ],
   "source": [
    "def removeDuplicates(nums: list[int]) -> int:\n",
    "    if not nums:\n",
    "        return 0\n",
    "    i = 0\n",
    "    for j in range(1, len(nums)):\n",
    "        if nums[i] != nums[j]:\n",
    "            i += 1\n",
    "            nums[i] = nums[j]\n",
    "    return i + 1\n",
    "removeDuplicates([0,0,0,0,1,1,2,2,2,2])"
   ]
  },
  {
   "cell_type": "markdown",
   "id": "63884238",
   "metadata": {},
   "source": [
    "## 4 - Remove Duplicates II"
   ]
  },
  {
   "cell_type": "code",
   "execution_count": null,
   "id": "e13c397a",
   "metadata": {},
   "outputs": [],
   "source": [
    "def removeDuplicates(self, nums: list[int]) -> int:\n",
    "        if len(nums) <= 2:\n",
    "            return len(nums)\n",
    "        slow = 2\n",
    "        for fast in range(2, len(nums)):\n",
    "            if nums[fast] != nums[slow - 2]:\n",
    "                nums[slow] = nums[fast]\n",
    "                slow += 1\n",
    "        return slow"
   ]
  },
  {
   "cell_type": "markdown",
   "id": "4bee1f40",
   "metadata": {},
   "source": [
    "## 5 - Majority element"
   ]
  },
  {
   "cell_type": "code",
   "execution_count": 1,
   "id": "60f3974f",
   "metadata": {},
   "outputs": [],
   "source": [
    "# Boyer-Moore Voting Algorithm\n",
    "def majorityElement(self, nums: list[int]) -> int:\n",
    "        \n",
    "        if len(nums) <= 2:\n",
    "            return nums[0]\n",
    "\n",
    "        candidate = nums[0]\n",
    "        count = 1\n",
    "        for i in range(1, len(nums)):\n",
    "            if count == 0:\n",
    "                candidate = nums[i]\n",
    "            if nums[i] == candidate:\n",
    "                count += 1\n",
    "            else:\n",
    "                count -= 1\n",
    "        return candidate"
   ]
  },
  {
   "cell_type": "markdown",
   "id": "6befe0a4",
   "metadata": {},
   "source": [
    "## 6 - Rotate Array"
   ]
  },
  {
   "cell_type": "code",
   "execution_count": 6,
   "id": "11c1efc0",
   "metadata": {},
   "outputs": [
    {
     "name": "stdout",
     "output_type": "stream",
     "text": [
      "[3, 4, 5, 6, 1, 2]\n"
     ]
    }
   ],
   "source": [
    "test_arr = [1,2,3,4,5,6]\n",
    "k = 4\n",
    "\n",
    "def rotate_array(arr, k):\n",
    "    # rotate by 1 k times\n",
    "    for _ in range(k):\n",
    "        tmp = arr[0]\n",
    "        for i in range(1, len(arr)):\n",
    "            tmp2 = arr[i]\n",
    "            arr[i] = tmp\n",
    "            tmp = tmp2\n",
    "        arr[0] = tmp2\n",
    "\n",
    "def O1space_rot_arr(arr, k):\n",
    "    n = len(arr)\n",
    "    if n == 0:\n",
    "        return\n",
    "    k %= n\n",
    "    def rev(start, end, a):\n",
    "        while start < end:\n",
    "            tmp = a[end]\n",
    "            a[end] = a[start]\n",
    "            a[start] = tmp\n",
    "            start += 1\n",
    "            end -= 1\n",
    "\n",
    "    rev(0, n - 1, arr)\n",
    "    rev(0, k - 1, arr)\n",
    "    rev(k, n - 1, arr)\n",
    "\n",
    "# rotate_array(test_arr, k)\n",
    "O1space_rot_arr(test_arr, k)\n",
    "print(test_arr)\n"
   ]
  }
 ],
 "metadata": {
  "kernelspec": {
   "display_name": "base",
   "language": "python",
   "name": "python3"
  },
  "language_info": {
   "codemirror_mode": {
    "name": "ipython",
    "version": 3
   },
   "file_extension": ".py",
   "mimetype": "text/x-python",
   "name": "python",
   "nbconvert_exporter": "python",
   "pygments_lexer": "ipython3",
   "version": "3.12.2"
  }
 },
 "nbformat": 4,
 "nbformat_minor": 5
}
