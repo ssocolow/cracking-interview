{
 "cells": [
  {
   "cell_type": "markdown",
   "id": "f679a0de",
   "metadata": {},
   "source": [
    "# Leetcode 150"
   ]
  },
  {
   "cell_type": "code",
   "execution_count": null,
   "id": "57190b63",
   "metadata": {
    "vscode": {
     "languageId": "plaintext"
    }
   },
   "outputs": [],
   "source": [
    "# merge two arrays"
   ]
  },
  {
   "cell_type": "markdown",
   "id": "a735be34",
   "metadata": {},
   "source": [
    "## 2 - Remove Element"
   ]
  }
 ],
 "metadata": {
  "language_info": {
   "name": "python"
  }
 },
 "nbformat": 4,
 "nbformat_minor": 5
}
