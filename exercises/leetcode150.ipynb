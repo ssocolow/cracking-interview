{
 "cells": [
  {
   "cell_type": "markdown",
   "id": "f679a0de",
   "metadata": {},
   "source": [
    "# Leetcode 150"
   ]
  },
  {
   "cell_type": "markdown",
   "id": "30efdf55",
   "metadata": {},
   "source": [
    "## Merge two arrays"
   ]
  },
  {
   "cell_type": "code",
   "execution_count": 2,
   "id": "57190b63",
   "metadata": {},
   "outputs": [
    {
     "data": {
      "text/plain": [
       "[1, 2, 3, 6, 7, 7]"
      ]
     },
     "execution_count": 2,
     "metadata": {},
     "output_type": "execute_result"
    }
   ],
   "source": [
    "# merge two arrays\n",
    "\n",
    "a = [1,7,7,0,0,0]\n",
    "b = [2,3,6]\n",
    "\n",
    "def merge(a, b, enda):\n",
    "    al = len(a) - 1\n",
    "    bl = len(b) - 1\n",
    "    while al > 0:\n",
    "        if a[enda] > b[bl]:\n",
    "            a[al] = a[enda]\n",
    "            enda -= 1\n",
    "        else:\n",
    "            a[al] = b[bl]\n",
    "            bl -= 1\n",
    "        al -= 1\n",
    "    return a\n",
    "\n",
    "merge(a,b,2)\n"
   ]
  },
  {
   "cell_type": "markdown",
   "id": "a735be34",
   "metadata": {},
   "source": [
    "## 2 - Remove Element"
   ]
  },
  {
   "cell_type": "code",
   "execution_count": 2,
   "id": "33cdbb27",
   "metadata": {},
   "outputs": [
    {
     "data": {
      "text/plain": [
       "5"
      ]
     },
     "execution_count": 2,
     "metadata": {},
     "output_type": "execute_result"
    }
   ],
   "source": [
    "def removeElement(nums, val: int) -> int:\n",
    "    slow, fast = 0,0\n",
    "    if len(nums) == 0:\n",
    "        return 0\n",
    "    while fast < len(nums):\n",
    "        if nums[slow] == val:\n",
    "            while nums[fast] == val:\n",
    "                fast += 1\n",
    "                if fast == len(nums):\n",
    "                    return slow\n",
    "            nums[slow] = nums[fast]\n",
    "            nums[fast] = val\n",
    "        slow += 1\n",
    "        fast += 1\n",
    "    return slow\n",
    "\n",
    "removeElement([0,1,2,2,3,0,4,2], 2)"
   ]
  },
  {
   "cell_type": "markdown",
   "id": "36c6369f",
   "metadata": {},
   "source": [
    "## 3 - Remove Duplicates"
   ]
  },
  {
   "cell_type": "code",
   "execution_count": 1,
   "id": "adb69292",
   "metadata": {},
   "outputs": [
    {
     "data": {
      "text/plain": [
       "3"
      ]
     },
     "execution_count": 1,
     "metadata": {},
     "output_type": "execute_result"
    }
   ],
   "source": [
    "def removeDuplicates(nums: list[int]) -> int:\n",
    "    if not nums:\n",
    "        return 0\n",
    "    i = 0\n",
    "    for j in range(1, len(nums)):\n",
    "        if nums[i] != nums[j]:\n",
    "            i += 1\n",
    "            nums[i] = nums[j]\n",
    "    return i + 1\n",
    "removeDuplicates([0,0,0,0,1,1,2,2,2,2])"
   ]
  }
 ],
 "metadata": {
  "kernelspec": {
   "display_name": "base",
   "language": "python",
   "name": "python3"
  },
  "language_info": {
   "codemirror_mode": {
    "name": "ipython",
    "version": 3
   },
   "file_extension": ".py",
   "mimetype": "text/x-python",
   "name": "python",
   "nbconvert_exporter": "python",
   "pygments_lexer": "ipython3",
   "version": "3.12.2"
  }
 },
 "nbformat": 4,
 "nbformat_minor": 5
}
