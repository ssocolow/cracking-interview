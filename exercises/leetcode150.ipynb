{
 "cells": [
  {
   "cell_type": "markdown",
   "id": "f679a0de",
   "metadata": {},
   "source": [
    "# Leetcode 150"
   ]
  },
  {
   "cell_type": "code",
   "execution_count": 2,
   "id": "57190b63",
   "metadata": {},
   "outputs": [
    {
     "data": {
      "text/plain": [
       "[1, 2, 3, 6, 7, 7]"
      ]
     },
     "execution_count": 2,
     "metadata": {},
     "output_type": "execute_result"
    }
   ],
   "source": [
    "# merge two arrays\n",
    "\n",
    "a = [1,7,7,0,0,0]\n",
    "b = [2,3,6]\n",
    "\n",
    "def merge(a, b, enda):\n",
    "    al = len(a) - 1\n",
    "    bl = len(b) - 1\n",
    "    while al > 0:\n",
    "        if a[enda] > b[bl]:\n",
    "            a[al] = a[enda]\n",
    "            enda -= 1\n",
    "        else:\n",
    "            a[al] = b[bl]\n",
    "            bl -= 1\n",
    "        al -= 1\n",
    "    return a\n",
    "\n",
    "merge(a,b,2)\n"
   ]
  },
  {
   "cell_type": "markdown",
   "id": "a735be34",
   "metadata": {},
   "source": [
    "## 2 - Remove Element"
   ]
  }
 ],
 "metadata": {
  "kernelspec": {
   "display_name": "base",
   "language": "python",
   "name": "python3"
  },
  "language_info": {
   "codemirror_mode": {
    "name": "ipython",
    "version": 3
   },
   "file_extension": ".py",
   "mimetype": "text/x-python",
   "name": "python",
   "nbconvert_exporter": "python",
   "pygments_lexer": "ipython3",
   "version": "3.12.2"
  }
 },
 "nbformat": 4,
 "nbformat_minor": 5
}
