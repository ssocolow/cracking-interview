{
 "cells": [
  {
   "cell_type": "markdown",
   "id": "bec16219",
   "metadata": {},
   "source": [
    "# Ch 7 Object Oriented Design"
   ]
  },
  {
   "cell_type": "markdown",
   "id": "d8fe3a98",
   "metadata": {},
   "source": [
    "## Deck of cards for blackjack"
   ]
  },
  {
   "cell_type": "code",
   "execution_count": 118,
   "id": "b4f5c4d5",
   "metadata": {},
   "outputs": [
    {
     "name": "stdout",
     "output_type": "stream",
     "text": [
      "your cards: [7d, Qd]. dealer showing Jd\n",
      "your total: 17\n"
     ]
    }
   ],
   "source": [
    "import random\n",
    "\n",
    "class Deck:\n",
    "    def __init__(self):\n",
    "        self.d = []\n",
    "        for i in range(2, 10):\n",
    "            for suit in ['d','s','h','c']:\n",
    "                self.d.append(Card(str(i)+suit))\n",
    "\n",
    "        for i in ['10','J','Q','K']:\n",
    "            for suit in ['d','s','h','c']:\n",
    "                self.d.append(Ten(i+suit))\n",
    "            \n",
    "        for suit in ['d','s','h','c']:\n",
    "            self.d.append(Ace('A'+suit))\n",
    "    \n",
    "    def shuffle(self):\n",
    "        random.shuffle(self.d)\n",
    "\n",
    "    def drawCard(self):\n",
    "        return self.d.pop()\n",
    "\n",
    "class Card:\n",
    "    def __init__(self, val):\n",
    "        self.val = val\n",
    "    def __repr__(self):\n",
    "        return self.val\n",
    "    def __str__(self):\n",
    "        return self.val\n",
    "\n",
    "class Ten(Card):\n",
    "    def __init__(self, val):\n",
    "        super().__init__(val)\n",
    "    \n",
    "class Ace(Card):\n",
    "    def __init__(self, val):\n",
    "        super().__init__(val)\n",
    "\n",
    "# blackjack\n",
    "deck = Deck()\n",
    "deck.shuffle()\n",
    "usercards = []\n",
    "usercards.append(deck.drawCard())\n",
    "usercards.append(deck.drawCard())\n",
    "d1 = deck.drawCard()\n",
    "d2 = deck.drawCard()\n",
    "\n",
    "def getSum(yourcards):\n",
    "    s = 0\n",
    "    for card in yourcards:\n",
    "        if isinstance(card, Ace):\n",
    "            if s == 10:\n",
    "                return 21\n",
    "            elif s < 10:\n",
    "                s += 11\n",
    "            else:\n",
    "                s += 1\n",
    "        elif isinstance(card, Ten):\n",
    "            s += 10\n",
    "        else:\n",
    "            s += int(card.val[0])\n",
    "    return s\n",
    "\n",
    "\n",
    "print(f\"your cards: {usercards}. dealer showing {d1}\")\n",
    "print(f'your total: {getSum(usercards)}')"
   ]
  },
  {
   "cell_type": "markdown",
   "id": "411b1c91",
   "metadata": {},
   "source": [
    "## Call center"
   ]
  },
  {
   "cell_type": "code",
   "execution_count": 1,
   "id": "3e802175",
   "metadata": {},
   "outputs": [],
   "source": [
    "class Handler:\n",
    "    def __init__(self):\n",
    "        self.busy = False\n",
    "        self.c = None\n",
    "    def start(self, call):\n",
    "        self.c = call\n",
    "        self.busy = True\n",
    "    def finish(self):\n",
    "        self.busy = False\n",
    "        nextCall(self)\n",
    "    def isBusy(self):\n",
    "        return self.busy\n",
    "\n",
    "class Respondant(Handler):\n",
    "    def __init__(self):\n",
    "        super().__init__()\n",
    "        self.canHandle = 1\n",
    "\n",
    "class Manager(Handler):\n",
    "    def __init__(self):\n",
    "        super().__init__()\n",
    "        self.canHandle = 2\n",
    "\n",
    "class Director(Handler):\n",
    "    def __init__(self):\n",
    "        super().__init__()\n",
    "        self.canHandle = 3\n",
    "\n",
    "class Call:\n",
    "    def __init__(self, imp):\n",
    "        self.imp = imp\n",
    "\n",
    "man = []\n",
    "resp = []\n",
    "dir = []\n",
    "for i in range(3):\n",
    "    resp.append(Respondant())\n",
    "    if i < 2:\n",
    "        man.append(Manager)\n",
    "dir.append(Director())\n",
    "\n",
    "from collections import deque\n",
    "respC = deque()\n",
    "manC = deque()\n",
    "dirC = deque()\n",
    "\n",
    "def dispatchCall(c):\n",
    "    if c.imp <= 1:\n",
    "        respC.append(c)\n",
    "    elif c.imp <= 2:\n",
    "        manC.append(c)\n",
    "    else:\n",
    "        dirC.append(c)\n",
    "\n",
    "def nextCall(o):\n",
    "    if isinstance(o, Respondant):\n",
    "        if len(respC) > 0:\n",
    "            o.start(respC.popleft())\n",
    "    elif isinstance(o, Manager):\n",
    "        if len(manC) > 0:\n",
    "            o.start(manC.popleft())\n",
    "    else:\n",
    "        if len(dirC) > 0:\n",
    "            o.start(dirC.popleft())\n"
   ]
  },
  {
   "cell_type": "markdown",
   "id": "4c6ca413",
   "metadata": {},
   "source": [
    "## Jukebox"
   ]
  },
  {
   "cell_type": "code",
   "execution_count": 6,
   "id": "6d35ad21",
   "metadata": {},
   "outputs": [
    {
     "name": "stdout",
     "output_type": "stream",
     "text": [
      "playing: yoman\n",
      "playing: blahblahhh\n",
      "playing: Jeez dude\n"
     ]
    }
   ],
   "source": [
    "class Jukebox:\n",
    "    def __init__(self, songs):\n",
    "        self.songs = songs\n",
    "        self.vol = 5\n",
    "        self.queue = deque(self.songs)\n",
    "        self.isPlaying = False\n",
    "        self.currentlyPlaying = None\n",
    "    def toggle(self):\n",
    "        self.isPlaying = not self.isPlaying\n",
    "        if not self.currentlyPlaying:\n",
    "                self.nextSong()\n",
    "    def nextSong(self):\n",
    "        if self.queue:\n",
    "            self.currentlyPlaying = self.queue.popleft()\n",
    "        else:\n",
    "            self.toggle()\n",
    "    def addSong(self, song):\n",
    "        self.queue.append(song)\n",
    "class Song:\n",
    "    def __init__(self, name, dur):\n",
    "        self.name = name\n",
    "        self.dur = dur\n",
    "j = Jukebox([Song(\"yoman\",68), Song(\"blahblahhh\", 88), Song(\"Jeez dude\", 84)])\n",
    "j.toggle()\n",
    "\n",
    "import time\n",
    "while j.isPlaying:\n",
    "    print(f'playing: {j.currentlyPlaying.name}')\n",
    "    time.sleep(j.currentlyPlaying.dur / 20)\n",
    "    j.nextSong()"
   ]
  }
 ],
 "metadata": {
  "kernelspec": {
   "display_name": "base",
   "language": "python",
   "name": "python3"
  },
  "language_info": {
   "codemirror_mode": {
    "name": "ipython",
    "version": 3
   },
   "file_extension": ".py",
   "mimetype": "text/x-python",
   "name": "python",
   "nbconvert_exporter": "python",
   "pygments_lexer": "ipython3",
   "version": "3.12.2"
  }
 },
 "nbformat": 4,
 "nbformat_minor": 5
}
