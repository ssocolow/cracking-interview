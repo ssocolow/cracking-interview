{
 "cells": [
  {
   "cell_type": "markdown",
   "id": "bec16219",
   "metadata": {},
   "source": [
    "# Ch 7 Object Oriented Design"
   ]
  },
  {
   "cell_type": "markdown",
   "id": "d8fe3a98",
   "metadata": {},
   "source": [
    "## Deck of cards for blackjack"
   ]
  },
  {
   "cell_type": "code",
   "execution_count": 118,
   "id": "b4f5c4d5",
   "metadata": {},
   "outputs": [
    {
     "name": "stdout",
     "output_type": "stream",
     "text": [
      "your cards: [7d, Qd]. dealer showing Jd\n",
      "your total: 17\n"
     ]
    }
   ],
   "source": [
    "import random\n",
    "\n",
    "class Deck:\n",
    "    def __init__(self):\n",
    "        self.d = []\n",
    "        for i in range(2, 10):\n",
    "            for suit in ['d','s','h','c']:\n",
    "                self.d.append(Card(str(i)+suit))\n",
    "\n",
    "        for i in ['10','J','Q','K']:\n",
    "            for suit in ['d','s','h','c']:\n",
    "                self.d.append(Ten(i+suit))\n",
    "            \n",
    "        for suit in ['d','s','h','c']:\n",
    "            self.d.append(Ace('A'+suit))\n",
    "    \n",
    "    def shuffle(self):\n",
    "        random.shuffle(self.d)\n",
    "\n",
    "    def drawCard(self):\n",
    "        return self.d.pop()\n",
    "\n",
    "class Card:\n",
    "    def __init__(self, val):\n",
    "        self.val = val\n",
    "    def __repr__(self):\n",
    "        return self.val\n",
    "    def __str__(self):\n",
    "        return self.val\n",
    "\n",
    "class Ten(Card):\n",
    "    def __init__(self, val):\n",
    "        super().__init__(val)\n",
    "    \n",
    "class Ace(Card):\n",
    "    def __init__(self, val):\n",
    "        super().__init__(val)\n",
    "\n",
    "# blackjack\n",
    "deck = Deck()\n",
    "deck.shuffle()\n",
    "usercards = []\n",
    "usercards.append(deck.drawCard())\n",
    "usercards.append(deck.drawCard())\n",
    "d1 = deck.drawCard()\n",
    "d2 = deck.drawCard()\n",
    "\n",
    "def getSum(yourcards):\n",
    "    s = 0\n",
    "    for card in yourcards:\n",
    "        if isinstance(card, Ace):\n",
    "            if s == 10:\n",
    "                return 21\n",
    "            elif s < 10:\n",
    "                s += 11\n",
    "            else:\n",
    "                s += 1\n",
    "        elif isinstance(card, Ten):\n",
    "            s += 10\n",
    "        else:\n",
    "            s += int(card.val[0])\n",
    "    return s\n",
    "\n",
    "\n",
    "print(f\"your cards: {usercards}. dealer showing {d1}\")\n",
    "print(f'your total: {getSum(usercards)}')"
   ]
  }
 ],
 "metadata": {
  "kernelspec": {
   "display_name": "base",
   "language": "python",
   "name": "python3"
  },
  "language_info": {
   "codemirror_mode": {
    "name": "ipython",
    "version": 3
   },
   "file_extension": ".py",
   "mimetype": "text/x-python",
   "name": "python",
   "nbconvert_exporter": "python",
   "pygments_lexer": "ipython3",
   "version": "3.12.2"
  }
 },
 "nbformat": 4,
 "nbformat_minor": 5
}
